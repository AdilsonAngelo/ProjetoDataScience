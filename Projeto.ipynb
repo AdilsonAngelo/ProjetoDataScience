{
 "cells": [
  {
   "cell_type": "code",
   "execution_count": 33,
   "metadata": {
    "colab": {},
    "colab_type": "code",
    "id": "jDKq1IeAaw37"
   },
   "outputs": [],
   "source": [
    "import numpy as np\n",
    "import pandas as pd\n",
    "from scipy import stats\n",
    "import matplotlib.pyplot as plt\n",
    "import seaborn as sns\n",
    "import re\n",
    "import math"
   ]
  },
  {
   "cell_type": "code",
   "execution_count": 34,
   "metadata": {
    "colab": {},
    "colab_type": "code",
    "id": "ScNoIYXL1hGZ"
   },
   "outputs": [],
   "source": [
    "movies = pd.read_csv('https://raw.githubusercontent.com/AdilsonAngelo/ProjetoDataScience/master/movies.csv', index_col='imdbID')\n",
    "movies = movies[(movies.Year >= 2009) & (movies.Year <= 2019) & (movies.Type == 'movie')]"
   ]
  },
  {
   "cell_type": "markdown",
   "metadata": {
    "colab_type": "text",
    "id": "PWcm30TbBRvT"
   },
   "source": [
    "# Pre-Processamento"
   ]
  },
  {
   "cell_type": "code",
   "execution_count": 35,
   "metadata": {
    "colab": {},
    "colab_type": "code",
    "id": "yP6HJ63NPbTH"
   },
   "outputs": [],
   "source": [
    "# Dropando colunas irrelevantes\n",
    "movies = movies[movies.Type == 'movie']\n",
    "movies = movies.drop(columns=['Plot', 'Poster', 'Website', 'Type'])\n",
    "movies.head()\n",
    "\n",
    "# Removendo duplicatas\n",
    "movies.drop_duplicates(keep = 'first', inplace = True)"
   ]
  },
  {
   "cell_type": "code",
   "execution_count": 36,
   "metadata": {
    "colab": {},
    "colab_type": "code",
    "id": "fw5IntsAeQTu"
   },
   "outputs": [],
   "source": [
    "def find_awards(s, regex):\n",
    "  s = str(s)\n",
    "  awards = 0\n",
    "  temp = re.findall(regex, str(s))\n",
    "  if temp:\n",
    "    for t in temp:\n",
    "      awards += int(t)\n",
    "  return awards\n",
    "\n",
    "# 'Golden Globe'\n",
    "# 'Oscar'\n",
    "# 'Primetime Emmys'\n",
    "# 'BAFTA Film Award'\n",
    "\n",
    "movies['oscars'] = movies.Awards.apply(lambda x: find_awards(x, r'Won (\\d+) Oscar'))\n",
    "movies['baftas'] = movies.Awards.apply(lambda x: find_awards(x, r'Won (\\d+) BAFTA'))\n",
    "movies['primetime_emmys'] = movies.Awards.apply(lambda x: find_awards(x, r'Won (\\d+) Primetime'))\n",
    "movies['golden_globes'] = movies.Awards.apply(lambda x: find_awards(x, r'Won (\\d+) Golden Globe'))\n",
    "\n",
    "movies['oscars_nom'] = movies.Awards.apply(lambda x: find_awards(x, r'Nominated for (\\d+) Oscar'))\n",
    "movies['baftas_nom'] = movies.Awards.apply(lambda x: find_awards(x, r'Nominated for (\\d+) BAFTA'))\n",
    "movies['primetime_emmys_nom'] = movies.Awards.apply(lambda x: find_awards(x, r'Nominated for (\\d+) Primetime'))\n",
    "movies['golden_globes_nom'] = movies.Awards.apply(lambda x: find_awards(x, r'Nominated for (\\d+) Golden Globe'))\n",
    "\n",
    "movies['other_awards'] = movies.Awards.apply(lambda x: find_awards(x, r'(\\d+) win'))\n",
    "movies['other_nominations'] = movies.Awards.apply(lambda x: find_awards(x, r'(\\d+) nomination'))\n",
    "\n",
    "movies = movies.drop(columns=['Awards'])"
   ]
  },
  {
   "cell_type": "code",
   "execution_count": 37,
   "metadata": {
    "colab": {},
    "colab_type": "code",
    "id": "CLrc1gokSACC"
   },
   "outputs": [],
   "source": [
    "# Setando campos categóricos\n",
    "\n",
    "movies.Title = movies.Title.astype('category')\n",
    "\n",
    "movies.Rated = movies.Rated.astype('category')\n",
    "\n",
    "movies.Genre = movies.Genre.str.replace(r',(.*)', '')\n",
    "movies.Genre = movies.Genre.astype('category')\n",
    "\n",
    "movies.Director = movies.Director.str.replace(r',(.*)', '')\n",
    "movies.Director = movies.Director.astype('category')\n",
    "\n",
    "movies.Writer = movies.Writer.str.replace(r'\\((.*)\\)', '').str.replace(r',(.*)', '').str.strip()\n",
    "movies.Writer = movies.Writer.astype('category')\n",
    "\n",
    "movies.Actors = movies.Actors.str.replace(r',(.*)', '')\n",
    "movies['leading_actor'] = movies.Actors.astype('category')\n",
    "movies = movies.drop(columns=['Actors'])\n",
    "\n",
    "movies.Language = movies.Language.str.replace(r',(.*)', '')\n",
    "movies.Language = movies.Language.astype('category')\n",
    "\n",
    "movies.Country = movies.Country.str.replace(r',(.*)', '')\n",
    "movies.Country = movies.Country.astype('category')\n",
    "\n",
    "movies.Production = movies.Production.str.replace(r',(.*)', '')\n",
    "movies.Production = movies.Production.astype('category')"
   ]
  },
  {
   "cell_type": "code",
   "execution_count": 38,
   "metadata": {
    "colab": {},
    "colab_type": "code",
    "id": "0dPnQLHCX2j1"
   },
   "outputs": [],
   "source": [
    "# Configurando campos numéricos que estão como strings\n",
    "# Limpando BoxOffice\n",
    "movies['BoxOffice'] = movies[~movies['BoxOffice'].isnull()].BoxOffice.str.replace('$', '').str.replace(',', '').str.replace('k', '000')\n",
    "mask = (movies.BoxOffice.str.startswith('&pound;')) & (~movies.BoxOffice.isnull())\n",
    "movies.loc[mask, 'BoxOffice'] = movies.loc[mask, 'BoxOffice'].apply(lambda x: 1.4 * float(str(x).replace('&pound;', '')))\n",
    "movies['BoxOffice'] = movies[~movies.BoxOffice.isnull()]['BoxOffice'].astype(float)\n",
    "\n",
    "# Limpando imdbVotes\n",
    "movies['imdbVotes'] = movies.imdbVotes.str.replace(',', '').astype(float)\n",
    "\n",
    "# Released e DVD para datetime\n",
    "movies.Released = pd.to_datetime(movies.Released, errors='coerce')\n",
    "movies.DVD = pd.to_datetime(movies.DVD, errors='coerce')"
   ]
  },
  {
   "cell_type": "code",
   "execution_count": 39,
   "metadata": {
    "colab": {
     "base_uri": "https://localhost:8080/",
     "height": 1003
    },
    "colab_type": "code",
    "id": "IHqXnVBw2Kl1",
    "outputId": "ad367b69-1988-4e9b-bcff-eeea49f2d150"
   },
   "outputs": [
    {
     "name": "stdout",
     "output_type": "stream",
     "text": [
      "Title                        category\n",
      "Year                            int64\n",
      "Rated                        category\n",
      "Released               datetime64[ns]\n",
      "Runtime                       float64\n",
      "Genre                        category\n",
      "Director                     category\n",
      "Writer                       category\n",
      "Language                     category\n",
      "Country                      category\n",
      "Metascore                     float64\n",
      "imdbRating                    float64\n",
      "imdbVotes                     float64\n",
      "DVD                    datetime64[ns]\n",
      "BoxOffice                     float64\n",
      "Production                   category\n",
      "tomatoes                      float64\n",
      "oscars                          int64\n",
      "baftas                          int64\n",
      "primetime_emmys                 int64\n",
      "golden_globes                   int64\n",
      "oscars_nom                      int64\n",
      "baftas_nom                      int64\n",
      "primetime_emmys_nom             int64\n",
      "golden_globes_nom               int64\n",
      "other_awards                    int64\n",
      "other_nominations               int64\n",
      "leading_actor                category\n",
      "dtype: object Title                       0\n",
      "Year                        0\n",
      "Rated                   90618\n",
      "Released                26216\n",
      "Runtime                  6001\n",
      "Genre                   10117\n",
      "Director                 2712\n",
      "Writer                  24223\n",
      "Language                 5279\n",
      "Country                  2551\n",
      "Metascore               98985\n",
      "imdbRating              52784\n",
      "imdbVotes               52799\n",
      "DVD                     96268\n",
      "BoxOffice              101918\n",
      "Production              89246\n",
      "tomatoes                96973\n",
      "oscars                      0\n",
      "baftas                      0\n",
      "primetime_emmys             0\n",
      "golden_globes               0\n",
      "oscars_nom                  0\n",
      "baftas_nom                  0\n",
      "primetime_emmys_nom         0\n",
      "golden_globes_nom           0\n",
      "other_awards                0\n",
      "other_nominations           0\n",
      "leading_actor           23189\n",
      "dtype: int64 \n",
      "dataset size: 104662\n"
     ]
    }
   ],
   "source": [
    "print(movies.dtypes, (movies.isnull()).sum(), '\\ndataset size: '+str(len(movies)))\n",
    "\n",
    "# 104662 eh todo o universo de filmes catalogados de 2009 - 2019\n",
    "# Devido a grande quantidade de dados ausentes eh necessario estabelecer uma amostra"
   ]
  },
  {
   "cell_type": "markdown",
   "metadata": {
    "colab_type": "text",
    "id": "J7XqJx_gCS9C"
   },
   "source": [
    "## Dados ausentes"
   ]
  },
  {
   "cell_type": "code",
   "execution_count": 40,
   "metadata": {
    "colab": {
     "base_uri": "https://localhost:8080/",
     "height": 527
    },
    "colab_type": "code",
    "id": "4CbXkZ4O8RcC",
    "outputId": "8614f0ed-68ab-4b6e-cd02-26e3f0338cb5"
   },
   "outputs": [
    {
     "name": "stdout",
     "output_type": "stream",
     "text": [
      "Title                     0\n",
      "Year                      0\n",
      "Rated                  1830\n",
      "Released                  0\n",
      "Runtime                  14\n",
      "Genre                     0\n",
      "Director                  0\n",
      "Writer                  667\n",
      "Language                  0\n",
      "Country                   0\n",
      "Metascore              2181\n",
      "imdbRating                0\n",
      "imdbVotes                 0\n",
      "DVD                    2606\n",
      "BoxOffice              4570\n",
      "Production              832\n",
      "tomatoes                  0\n",
      "oscars                    0\n",
      "baftas                    0\n",
      "primetime_emmys           0\n",
      "golden_globes             0\n",
      "oscars_nom                0\n",
      "baftas_nom                0\n",
      "primetime_emmys_nom       0\n",
      "golden_globes_nom         0\n",
      "other_awards              0\n",
      "other_nominations         0\n",
      "leading_actor             0\n",
      "dtype: int64 \n",
      " 6917\n"
     ]
    }
   ],
   "source": [
    "# TRATAMENTO DE DADOS AUSENTES\n",
    "movies1 = movies\n",
    "# Categoricos\n",
    "movies1 = movies1[pd.notnull(movies1['Genre'])]\n",
    "movies1 = movies1[pd.notnull(movies1['Director'])]\n",
    "movies1 = movies1[pd.notnull(movies1['Language'])]\n",
    "movies1 = movies1[pd.notnull(movies1['Country'])]\n",
    "movies1 = movies1[pd.notnull(movies1['leading_actor'])]\n",
    "# Numericos\n",
    "movies1 = movies1[pd.notnull(movies1['Released'])]\n",
    "movies1 = movies1[pd.notnull(movies1['imdbRating'])]\n",
    "movies1 = movies1[pd.notnull(movies1['tomatoes'])]\n",
    "\n",
    "print(movies1.isnull().sum(), '\\n', len(movies1))"
   ]
  },
  {
   "cell_type": "code",
   "execution_count": 41,
   "metadata": {
    "colab": {
     "base_uri": "https://localhost:8080/",
     "height": 476
    },
    "colab_type": "code",
    "id": "t7DGw4yH8G63",
    "outputId": "6f64dbca-7263-4f58-c887-796911c3e248"
   },
   "outputs": [
    {
     "name": "stdout",
     "output_type": "stream",
     "text": [
      "Title                     0\n",
      "Year                      0\n",
      "Rated                  1830\n",
      "Released                  0\n",
      "Runtime                  14\n",
      "Genre                     0\n",
      "Director                  0\n",
      "Writer                  667\n",
      "Language                  0\n",
      "Country                   0\n",
      "imdbRating                0\n",
      "imdbVotes                 0\n",
      "Production              832\n",
      "tomatoes                  0\n",
      "oscars                    0\n",
      "baftas                    0\n",
      "primetime_emmys           0\n",
      "golden_globes             0\n",
      "oscars_nom                0\n",
      "baftas_nom                0\n",
      "primetime_emmys_nom       0\n",
      "golden_globes_nom         0\n",
      "other_awards              0\n",
      "other_nominations         0\n",
      "leading_actor             0\n",
      "dtype: int64 \n",
      " 6917\n"
     ]
    }
   ],
   "source": [
    "# Ainda assim sobram colunas com mais de 70% de dados ausentes, então decido remove-las\n",
    "movies1 = movies1.dropna(thresh=.7*len(movies1), axis=1)\n",
    "\n",
    "print(movies1.isnull().sum(), '\\n', len(movies1))"
   ]
  },
  {
   "cell_type": "code",
   "execution_count": 42,
   "metadata": {
    "colab": {
     "base_uri": "https://localhost:8080/",
     "height": 476
    },
    "colab_type": "code",
    "id": "Ja3kr4J5WOwf",
    "outputId": "ce11f416-69c4-48b5-ec92-bc5984c962fc"
   },
   "outputs": [
    {
     "name": "stdout",
     "output_type": "stream",
     "text": [
      "Title                     0\n",
      "Year                      0\n",
      "Rated                  1830\n",
      "Released                  0\n",
      "Runtime                   0\n",
      "Genre                     0\n",
      "Director                  0\n",
      "Writer                  667\n",
      "Language                  0\n",
      "Country                   0\n",
      "imdbRating                0\n",
      "imdbVotes                 0\n",
      "Production              832\n",
      "tomatoes                  0\n",
      "oscars                    0\n",
      "baftas                    0\n",
      "primetime_emmys           0\n",
      "golden_globes             0\n",
      "oscars_nom                0\n",
      "baftas_nom                0\n",
      "primetime_emmys_nom       0\n",
      "golden_globes_nom         0\n",
      "other_awards              0\n",
      "other_nominations         0\n",
      "leading_actor             0\n",
      "dtype: int64 \n",
      " 6917\n"
     ]
    }
   ],
   "source": [
    "# Sobram 14 filmes com Runtime ausentes, portanto, para essa quantidade sera feita imputacao com a mediana (k-nn seria muito custoso para 14 dados faltantes)\n",
    "# Ainda sobram filmes suficientes para uma amostra relevante\n",
    "\n",
    "movies1.Runtime.fillna(movies1.Runtime.median(), inplace=True)\n",
    "\n",
    "print(movies1.isnull().sum(), '\\n', len(movies1))"
   ]
  },
  {
   "cell_type": "markdown",
   "metadata": {
    "colab_type": "text",
    "id": "ZmrcUOqSCrGt"
   },
   "source": [
    "## Remoção de outliers"
   ]
  },
  {
   "cell_type": "code",
   "execution_count": 43,
   "metadata": {
    "colab": {
     "base_uri": "https://localhost:8080/",
     "height": 34
    },
    "colab_type": "code",
    "id": "BUSC_vHLjjj5",
    "outputId": "7e9db9dd-2027-4cda-a23c-ad52872c7365"
   },
   "outputs": [
    {
     "data": {
      "text/plain": [
       "6583"
      ]
     },
     "execution_count": 43,
     "metadata": {},
     "output_type": "execute_result"
    }
   ],
   "source": [
    "# Remocao de outliers\n",
    "\n",
    "\n",
    "# Removendo outliers usando tukey\n",
    "# deixa um numero de linhas inferior ao z-score robusto\n",
    "\n",
    "q1 = movies1['Runtime'].quantile(q=0.25)\n",
    "q3 = movies1['Runtime'].quantile(q=0.75)\n",
    "iqr = q3 - q1\n",
    "\n",
    "movies_tukey = movies1[(movies1['Runtime'] > (q1-1.5*iqr)) & (movies1['Runtime'] < (q3+1.5*iqr))]\n",
    "len(movies_tukey)"
   ]
  },
  {
   "cell_type": "code",
   "execution_count": 44,
   "metadata": {
    "colab": {
     "base_uri": "https://localhost:8080/",
     "height": 388
    },
    "colab_type": "code",
    "id": "cmQTNiA7lalg",
    "outputId": "b4b0ac3a-f384-4d77-84dc-7a2cb9d7a3e2"
   },
   "outputs": [
    {
     "name": "stdout",
     "output_type": "stream",
     "text": [
      "(0.8708786964416504, 0.0)\n",
      "(6712, 25)\n",
      "(0.9706310033798218, 6.039849538699488e-35)\n"
     ]
    },
    {
     "name": "stderr",
     "output_type": "stream",
     "text": [
      "c:\\users\\aange\\appdata\\local\\programs\\python\\python37\\lib\\site-packages\\scipy\\stats\\morestats.py:1660: UserWarning: p-value may not be accurate for N > 5000.\n",
      "  warnings.warn(\"p-value may not be accurate for N > 5000.\")\n",
      "c:\\users\\aange\\appdata\\local\\programs\\python\\python37\\lib\\site-packages\\scipy\\stats\\morestats.py:1660: UserWarning: p-value may not be accurate for N > 5000.\n",
      "  warnings.warn(\"p-value may not be accurate for N > 5000.\")\n"
     ]
    },
    {
     "data": {
      "image/png": "[encoded data removed]",
      "text/plain": [
       "<Figure size 432x288 with 1 Axes>"
      ]
     },
     "metadata": {
      "needs_background": "light"
     },
     "output_type": "display_data"
    }
   ],
   "source": [
    "# Removendo com z-score robusto\n",
    "\n",
    "# pelo teste de shapiro a coluna Runtime é 87% uma gaussiana\n",
    "# após a remoção de outliers esse numero sobe para 97%\n",
    "print(stats.shapiro(movies1.Runtime))\n",
    "\n",
    "movies1.Runtime.plot.box()\n",
    "mad = np.abs(movies1['Runtime'] - movies1['Runtime'].median()).median()*(1/0.6745)\n",
    "movies1 = movies1[(np.abs(movies1['Runtime']-movies1['Runtime'].median())/mad < 3.5)]\n",
    "print(movies1.shape)\n",
    "print(stats.shapiro(movies1.Runtime))\n"
   ]
  },
  {
   "cell_type": "code",
   "execution_count": 45,
   "metadata": {
    "colab": {
     "base_uri": "https://localhost:8080/",
     "height": 286
    },
    "colab_type": "code",
    "id": "qg_z_vFvIOE0",
    "outputId": "6287a8de-b868-46bd-deed-89febd763a30"
   },
   "outputs": [
    {
     "data": {
      "text/plain": [
       "<matplotlib.axes._subplots.AxesSubplot at 0x1cdceafe048>"
      ]
     },
     "execution_count": 45,
     "metadata": {},
     "output_type": "execute_result"
    },
    {
     "data": {
      "image/png": "[encoded data removed]",
      "text/plain": [
       "<Figure size 432x288 with 1 Axes>"
      ]
     },
     "metadata": {
      "needs_background": "light"
     },
     "output_type": "display_data"
    }
   ],
   "source": [
    "movies1.Runtime.plot.box()"
   ]
  },
  {
   "cell_type": "code",
   "execution_count": 46,
   "metadata": {
    "colab": {
     "base_uri": "https://localhost:8080/",
     "height": 388
    },
    "colab_type": "code",
    "id": "wYvHB7nmDRjL",
    "outputId": "1b84d01a-efd1-463d-c664-039a36f45bca"
   },
   "outputs": [
    {
     "name": "stderr",
     "output_type": "stream",
     "text": [
      "c:\\users\\aange\\appdata\\local\\programs\\python\\python37\\lib\\site-packages\\scipy\\stats\\morestats.py:1660: UserWarning: p-value may not be accurate for N > 5000.\n",
      "  warnings.warn(\"p-value may not be accurate for N > 5000.\")\n",
      "c:\\users\\aange\\appdata\\local\\programs\\python\\python37\\lib\\site-packages\\scipy\\stats\\morestats.py:1660: UserWarning: p-value may not be accurate for N > 5000.\n",
      "  warnings.warn(\"p-value may not be accurate for N > 5000.\")\n"
     ]
    },
    {
     "name": "stdout",
     "output_type": "stream",
     "text": [
      "(0.33951354026794434, 0.0)\n",
      "(6712, 25)\n",
      "(0.33951354026794434, 0.0)\n"
     ]
    },
    {
     "data": {
      "image/png": "[encoded data removed]",
      "text/plain": [
       "<Figure size 432x288 with 1 Axes>"
      ]
     },
     "metadata": {
      "needs_background": "light"
     },
     "output_type": "display_data"
    }
   ],
   "source": [
    "print(stats.shapiro(movies1.imdbVotes))\n",
    "\n",
    "movies1.imdbVotes.plot.box()\n",
    "mad = np.abs(movies1['imdbVotes'] - movies1['imdbVotes'].median()).median()*(1/0.6745)\n",
    "# movies1 = movies1[(np.abs(movies1['imdbVotes']-movies1['imdbVotes'].median())/mad < 3.5)]\n",
    "print(movies1.shape)\n",
    "print(stats.shapiro(movies1.imdbVotes))\n"
   ]
  },
  {
   "cell_type": "code",
   "execution_count": 47,
   "metadata": {
    "colab": {},
    "colab_type": "code",
    "id": "sLCnnu7xDb4W"
   },
   "outputs": [],
   "source": [
    "# movies1.imdbVotes.plot.box()"
   ]
  },
  {
   "cell_type": "code",
   "execution_count": 48,
   "metadata": {
    "colab": {
     "base_uri": "https://localhost:8080/",
     "height": 300
    },
    "colab_type": "code",
    "id": "vmxbgbW61gu5",
    "outputId": "a626848a-0a50-4a81-b379-9bfdbd0aedfd"
   },
   "outputs": [
    {
     "data": {
      "text/plain": [
       "<matplotlib.axes._subplots.AxesSubplot at 0x1cdc9d36c18>"
      ]
     },
     "execution_count": 48,
     "metadata": {},
     "output_type": "execute_result"
    },
    {
     "data": {
      "image/png": "[encoded data removed]",
      "text/plain": [
       "<Figure size 432x288 with 1 Axes>"
      ]
     },
     "metadata": {
      "needs_background": "light"
     },
     "output_type": "display_data"
    }
   ],
   "source": [
    "movies1.plot.scatter(x='tomatoes', y='imdbRating')"
   ]
  },
  {
   "cell_type": "code",
   "execution_count": 49,
   "metadata": {
    "colab": {
     "base_uri": "https://localhost:8080/",
     "height": 321
    },
    "colab_type": "code",
    "id": "xzR0fgnhnnDA",
    "outputId": "6ee0c823-803f-4db2-e537-0bc29b040d34"
   },
   "outputs": [
    {
     "name": "stderr",
     "output_type": "stream",
     "text": [
      "c:\\users\\aange\\appdata\\local\\programs\\python\\python37\\lib\\site-packages\\scipy\\stats\\morestats.py:1660: UserWarning: p-value may not be accurate for N > 5000.\n",
      "  warnings.warn(\"p-value may not be accurate for N > 5000.\")\n"
     ]
    },
    {
     "data": {
      "text/plain": [
       "(0.9435673952102661, 7.006492321624085e-45)"
      ]
     },
     "execution_count": 49,
     "metadata": {},
     "output_type": "execute_result"
    },
    {
     "data": {
      "image/png": "[encoded data removed]",
      "text/plain": [
       "<Figure size 432x288 with 1 Axes>"
      ]
     },
     "metadata": {
      "needs_background": "light"
     },
     "output_type": "display_data"
    }
   ],
   "source": [
    "movies1['imdb_tomatoes'] = movies1.tomatoes / movies1.imdbRating\n",
    "movies1.imdb_tomatoes.plot.box()\n",
    "stats.shapiro(movies1.imdb_tomatoes)"
   ]
  },
  {
   "cell_type": "code",
   "execution_count": 50,
   "metadata": {
    "colab": {
     "base_uri": "https://localhost:8080/",
     "height": 304
    },
    "colab_type": "code",
    "id": "jsn924z5olTi",
    "outputId": "5dc48892-ad72-4b66-89c9-e3f7fa1a2593"
   },
   "outputs": [
    {
     "name": "stdout",
     "output_type": "stream",
     "text": [
      "6703\n"
     ]
    },
    {
     "data": {
      "text/plain": [
       "<matplotlib.axes._subplots.AxesSubplot at 0x1cdcfb7d940>"
      ]
     },
     "execution_count": 50,
     "metadata": {},
     "output_type": "execute_result"
    },
    {
     "data": {
      "image/png": "[encoded data removed]",
      "text/plain": [
       "<Figure size 432x288 with 1 Axes>"
      ]
     },
     "metadata": {
      "needs_background": "light"
     },
     "output_type": "display_data"
    }
   ],
   "source": [
    "mad = abs(movies1['imdb_tomatoes'] - movies1['imdb_tomatoes'].median()).median()*(1/0.6745)\n",
    "movies1 = movies1[abs(movies1['imdb_tomatoes']-movies1['imdb_tomatoes'].median())/mad < 3.5]\n",
    "print(len(movies1))\n",
    "movies1.imdb_tomatoes.plot.box()"
   ]
  },
  {
   "cell_type": "code",
   "execution_count": 51,
   "metadata": {
    "colab": {
     "base_uri": "https://localhost:8080/",
     "height": 422
    },
    "colab_type": "code",
    "id": "xB6XnLqxHyND",
    "outputId": "228f1a7c-2cb5-44d5-de71-ff4bc35966d9"
   },
   "outputs": [
    {
     "data": {
      "text/plain": [
       "<matplotlib.axes._subplots.AxesSubplot at 0x1cdcedd74a8>"
      ]
     },
     "execution_count": 51,
     "metadata": {},
     "output_type": "execute_result"
    },
    {
     "data": {
      "image/png": "[encoded data removed]",
      "text/plain": [
       "<Figure size 432x288 with 1 Axes>"
      ]
     },
     "metadata": {
      "needs_background": "light"
     },
     "output_type": "display_data"
    }
   ],
   "source": [
    "# e discretizacao de Runtime\n",
    "movies1['runtime_dist'] = pd.cut(movies1.Runtime, 10, include_lowest=True)\n",
    "movies1.runtime_dist.value_counts(sort=False).plot.bar()"
   ]
  },
  {
   "cell_type": "code",
   "execution_count": 57,
   "metadata": {
    "colab": {
     "base_uri": "https://localhost:8080/",
     "height": 357
    },
    "colab_type": "code",
    "id": "ivHFSxkEds27",
    "outputId": "835b451e-d65f-4440-90ef-5359e2483f94"
   },
   "outputs": [
    {
     "data": {
      "text/html": [
       "<div>\n",
       "<style scoped>\n",
       "    .dataframe tbody tr th:only-of-type {\n",
       "        vertical-align: middle;\n",
       "    }\n",
       "\n",
       "    .dataframe tbody tr th {\n",
       "        vertical-align: top;\n",
       "    }\n",
       "\n",
       "    .dataframe thead th {\n",
       "        text-align: right;\n",
       "    }\n",
       "</style>\n",
       "<table border=\"1\" class=\"dataframe\">\n",
       "  <thead>\n",
       "    <tr style=\"text-align: right;\">\n",
       "      <th></th>\n",
       "      <th>Year</th>\n",
       "      <th>Rated</th>\n",
       "      <th>Released</th>\n",
       "      <th>Runtime</th>\n",
       "      <th>Genre</th>\n",
       "      <th>Director</th>\n",
       "      <th>Writer</th>\n",
       "      <th>Language</th>\n",
       "      <th>Country</th>\n",
       "      <th>imdbRating</th>\n",
       "      <th>...</th>\n",
       "      <th>oscars</th>\n",
       "      <th>primetime_emmys</th>\n",
       "      <th>oscars_nom</th>\n",
       "      <th>baftas_nom</th>\n",
       "      <th>primetime_emmys_nom</th>\n",
       "      <th>golden_globes_nom</th>\n",
       "      <th>other_awards</th>\n",
       "      <th>other_nominations</th>\n",
       "      <th>leading_actor</th>\n",
       "      <th>imdb_tomatoes</th>\n",
       "    </tr>\n",
       "    <tr>\n",
       "      <th>imdbID</th>\n",
       "      <th></th>\n",
       "      <th></th>\n",
       "      <th></th>\n",
       "      <th></th>\n",
       "      <th></th>\n",
       "      <th></th>\n",
       "      <th></th>\n",
       "      <th></th>\n",
       "      <th></th>\n",
       "      <th></th>\n",
       "      <th></th>\n",
       "      <th></th>\n",
       "      <th></th>\n",
       "      <th></th>\n",
       "      <th></th>\n",
       "      <th></th>\n",
       "      <th></th>\n",
       "      <th></th>\n",
       "      <th></th>\n",
       "      <th></th>\n",
       "      <th></th>\n",
       "    </tr>\n",
       "  </thead>\n",
       "  <tbody>\n",
       "    <tr>\n",
       "      <th>tt1533818</th>\n",
       "      <td>0.1</td>\n",
       "      <td>0.600000</td>\n",
       "      <td>0.336315</td>\n",
       "      <td>0.695652</td>\n",
       "      <td>0.307692</td>\n",
       "      <td>0.277978</td>\n",
       "      <td>0.281348</td>\n",
       "      <td>0.280952</td>\n",
       "      <td>0.308458</td>\n",
       "      <td>0.626506</td>\n",
       "      <td>...</td>\n",
       "      <td>0.0</td>\n",
       "      <td>0.0</td>\n",
       "      <td>0.0</td>\n",
       "      <td>0.0</td>\n",
       "      <td>0.0</td>\n",
       "      <td>0.0</td>\n",
       "      <td>0.000000</td>\n",
       "      <td>0.006135</td>\n",
       "      <td>0.806370</td>\n",
       "      <td>0.551940</td>\n",
       "    </tr>\n",
       "    <tr>\n",
       "      <th>tt1534075</th>\n",
       "      <td>0.1</td>\n",
       "      <td>0.555556</td>\n",
       "      <td>0.116790</td>\n",
       "      <td>0.423913</td>\n",
       "      <td>0.269231</td>\n",
       "      <td>0.516223</td>\n",
       "      <td>0.000000</td>\n",
       "      <td>0.242857</td>\n",
       "      <td>0.940299</td>\n",
       "      <td>0.686747</td>\n",
       "      <td>...</td>\n",
       "      <td>0.0</td>\n",
       "      <td>0.0</td>\n",
       "      <td>0.0</td>\n",
       "      <td>0.0</td>\n",
       "      <td>0.0</td>\n",
       "      <td>0.0</td>\n",
       "      <td>0.000000</td>\n",
       "      <td>0.006135</td>\n",
       "      <td>0.547201</td>\n",
       "      <td>0.459861</td>\n",
       "    </tr>\n",
       "    <tr>\n",
       "      <th>tt1534085</th>\n",
       "      <td>0.1</td>\n",
       "      <td>0.733333</td>\n",
       "      <td>0.198569</td>\n",
       "      <td>0.652174</td>\n",
       "      <td>0.500000</td>\n",
       "      <td>0.717415</td>\n",
       "      <td>0.722968</td>\n",
       "      <td>0.242857</td>\n",
       "      <td>0.174129</td>\n",
       "      <td>0.542169</td>\n",
       "      <td>...</td>\n",
       "      <td>0.0</td>\n",
       "      <td>0.0</td>\n",
       "      <td>0.0</td>\n",
       "      <td>0.0</td>\n",
       "      <td>0.0</td>\n",
       "      <td>0.0</td>\n",
       "      <td>0.021277</td>\n",
       "      <td>0.000000</td>\n",
       "      <td>0.655182</td>\n",
       "      <td>0.379833</td>\n",
       "    </tr>\n",
       "    <tr>\n",
       "      <th>tt1535101</th>\n",
       "      <td>0.2</td>\n",
       "      <td>0.733333</td>\n",
       "      <td>0.193202</td>\n",
       "      <td>0.695652</td>\n",
       "      <td>0.192308</td>\n",
       "      <td>0.689744</td>\n",
       "      <td>0.242493</td>\n",
       "      <td>0.242857</td>\n",
       "      <td>0.935323</td>\n",
       "      <td>0.590361</td>\n",
       "      <td>...</td>\n",
       "      <td>0.0</td>\n",
       "      <td>0.0</td>\n",
       "      <td>0.0</td>\n",
       "      <td>0.0</td>\n",
       "      <td>0.0</td>\n",
       "      <td>0.0</td>\n",
       "      <td>0.000000</td>\n",
       "      <td>0.000000</td>\n",
       "      <td>0.111750</td>\n",
       "      <td>0.376250</td>\n",
       "    </tr>\n",
       "    <tr>\n",
       "      <th>tt1535102</th>\n",
       "      <td>0.2</td>\n",
       "      <td>0.555556</td>\n",
       "      <td>0.250447</td>\n",
       "      <td>0.467391</td>\n",
       "      <td>0.192308</td>\n",
       "      <td>0.040934</td>\n",
       "      <td>0.041965</td>\n",
       "      <td>0.242857</td>\n",
       "      <td>0.940299</td>\n",
       "      <td>0.385542</td>\n",
       "      <td>...</td>\n",
       "      <td>0.0</td>\n",
       "      <td>0.0</td>\n",
       "      <td>0.0</td>\n",
       "      <td>0.0</td>\n",
       "      <td>0.0</td>\n",
       "      <td>0.0</td>\n",
       "      <td>0.017021</td>\n",
       "      <td>0.000000</td>\n",
       "      <td>0.854786</td>\n",
       "      <td>0.000000</td>\n",
       "    </tr>\n",
       "  </tbody>\n",
       "</table>\n",
       "<p>5 rows × 23 columns</p>\n",
       "</div>"
      ],
      "text/plain": [
       "           Year     Rated  Released   Runtime     Genre  Director    Writer  \\\n",
       "imdbID                                                                        \n",
       "tt1533818   0.1  0.600000  0.336315  0.695652  0.307692  0.277978  0.281348   \n",
       "tt1534075   0.1  0.555556  0.116790  0.423913  0.269231  0.516223  0.000000   \n",
       "tt1534085   0.1  0.733333  0.198569  0.652174  0.500000  0.717415  0.722968   \n",
       "tt1535101   0.2  0.733333  0.193202  0.695652  0.192308  0.689744  0.242493   \n",
       "tt1535102   0.2  0.555556  0.250447  0.467391  0.192308  0.040934  0.041965   \n",
       "\n",
       "           Language   Country  imdbRating  ...  oscars  primetime_emmys  \\\n",
       "imdbID                                     ...                            \n",
       "tt1533818  0.280952  0.308458    0.626506  ...     0.0              0.0   \n",
       "tt1534075  0.242857  0.940299    0.686747  ...     0.0              0.0   \n",
       "tt1534085  0.242857  0.174129    0.542169  ...     0.0              0.0   \n",
       "tt1535101  0.242857  0.935323    0.590361  ...     0.0              0.0   \n",
       "tt1535102  0.242857  0.940299    0.385542  ...     0.0              0.0   \n",
       "\n",
       "           oscars_nom  baftas_nom  primetime_emmys_nom  golden_globes_nom  \\\n",
       "imdbID                                                                      \n",
       "tt1533818         0.0         0.0                  0.0                0.0   \n",
       "tt1534075         0.0         0.0                  0.0                0.0   \n",
       "tt1534085         0.0         0.0                  0.0                0.0   \n",
       "tt1535101         0.0         0.0                  0.0                0.0   \n",
       "tt1535102         0.0         0.0                  0.0                0.0   \n",
       "\n",
       "           other_awards  other_nominations  leading_actor  imdb_tomatoes  \n",
       "imdbID                                                                    \n",
       "tt1533818      0.000000           0.006135       0.806370       0.551940  \n",
       "tt1534075      0.000000           0.006135       0.547201       0.459861  \n",
       "tt1534085      0.021277           0.000000       0.655182       0.379833  \n",
       "tt1535101      0.000000           0.000000       0.111750       0.376250  \n",
       "tt1535102      0.017021           0.000000       0.854786       0.000000  \n",
       "\n",
       "[5 rows x 23 columns]"
      ]
     },
     "execution_count": 57,
     "metadata": {},
     "output_type": "execute_result"
    }
   ],
   "source": [
    "columns = movies1.columns.tolist()\n",
    "# columns = [c for c in columns if c not in ['Title', 'Released', 'Genre', 'Director', 'Writer', 'Language', 'Country', 'leading_actor']]\n",
    "columns = [c for c in columns if c not in ['Title', 'runtime_dist']]\n",
    "\n",
    "movies2 = movies1[columns]\n",
    "\n",
    "# movies2.Released = pd.to_datetime(movies2['Released']).astype('int')\n",
    "movies2.Genre = movies2.Genre.cat.codes\n",
    "movies2.Director = movies2.Director.cat.codes\n",
    "movies2.Writer = movies2.Writer.cat.codes\n",
    "movies2.Language = movies2.Language.cat.codes\n",
    "movies2.Country = movies2.Country.cat.codes\n",
    "movies2.leading_actor = movies2.leading_actor.cat.codes\n",
    "movies2.Rated = movies2.Rated.cat.codes\n",
    "movies2.Production = movies2.Production.cat.codes\n",
    "\n",
    "movies_norm = (movies2 - movies2.min()) / (movies2.max() - movies2.min())\n",
    "\n",
    "# movies_norm = movies_norm.drop(columns=['golden_globes', 'baftas']) # colunas vazias\n",
    "# movies1 = movies1.drop(columns=['golden_globes', 'baftas']) # colunas vazias\n",
    "movies_norm.head()"
   ]
  },
  {
   "cell_type": "code",
   "execution_count": 58,
   "metadata": {
    "colab": {
     "base_uri": "https://localhost:8080/",
     "height": 156
    },
    "colab_type": "code",
    "id": "bH8z0X1IvCai",
    "outputId": "46b2c4f0-aeb6-4995-9cc4-9e77ae7e1794"
   },
   "outputs": [
    {
     "name": "stderr",
     "output_type": "stream",
     "text": [
      "c:\\users\\aange\\appdata\\local\\programs\\python\\python37\\lib\\site-packages\\sklearn\\ensemble\\iforest.py:237: FutureWarning: default contamination parameter 0.1 will change in version 0.22 to \"auto\". This will change the predict method behavior.\n",
      "  FutureWarning)\n",
      "c:\\users\\aange\\appdata\\local\\programs\\python\\python37\\lib\\site-packages\\sklearn\\ensemble\\iforest.py:247: FutureWarning: behaviour=\"old\" is deprecated and will be removed in version 0.22. Please use behaviour=\"new\", which makes the decision_function change to match other anomaly detection algorithm API.\n",
      "  FutureWarning)\n",
      "c:\\users\\aange\\appdata\\local\\programs\\python\\python37\\lib\\site-packages\\sklearn\\ensemble\\iforest.py:415: DeprecationWarning: threshold_ attribute is deprecated in 0.20 and will be removed in 0.22.\n",
      "  \" be removed in 0.22.\", DeprecationWarning)\n"
     ]
    },
    {
     "data": {
      "text/plain": [
       "6032"
      ]
     },
     "execution_count": 58,
     "metadata": {},
     "output_type": "execute_result"
    }
   ],
   "source": [
    "# DESCARTADO; remove muitas instancias\n",
    "\n",
    "from sklearn.ensemble import IsolationForest\n",
    "rng = np.random.RandomState(42)\n",
    "clf = IsolationForest(max_samples=100, random_state=rng)\n",
    "clf.fit(movies_norm)\n",
    "\n",
    "scores = clf.predict(movies_norm)\n",
    "movies_norm3 = movies_norm[scores != -1]\n",
    "len(movies_norm3)"
   ]
  },
  {
   "cell_type": "code",
   "execution_count": 59,
   "metadata": {
    "colab": {
     "base_uri": "https://localhost:8080/",
     "height": 34
    },
    "colab_type": "code",
    "id": "Ggf-zQuAt1gi",
    "outputId": "dc3e1868-91fb-4e36-abc7-14a1c0e22879"
   },
   "outputs": [
    {
     "data": {
      "text/plain": [
       "6635"
      ]
     },
     "execution_count": 59,
     "metadata": {},
     "output_type": "execute_result"
    }
   ],
   "source": [
    "from sklearn.covariance import EllipticEnvelope\n",
    "detector = EllipticEnvelope(contamination=0.01)\n",
    "detector.fit(movies_norm)\n",
    "scores = detector.predict(movies_norm)\n",
    "\n",
    "movies_norm1 = movies_norm[scores != -1]\n",
    "len(movies_norm1)"
   ]
  },
  {
   "cell_type": "code",
   "execution_count": 60,
   "metadata": {
    "colab": {
     "base_uri": "https://localhost:8080/",
     "height": 34
    },
    "colab_type": "code",
    "id": "t4mBdtubKCeF",
    "outputId": "af1382bf-0f6f-4afb-ecf3-cdf01cd7ee1b"
   },
   "outputs": [
    {
     "data": {
      "text/plain": [
       "6635"
      ]
     },
     "execution_count": 60,
     "metadata": {},
     "output_type": "execute_result"
    }
   ],
   "source": [
    "from sklearn.neighbors import LocalOutlierFactor\n",
    "\n",
    "lof = LocalOutlierFactor(n_neighbors=10, contamination=0.01)\n",
    "\n",
    "movies_norm2 = movies_norm[lof.fit_predict(movies_norm) != -1]\n",
    "len(movies_norm2)"
   ]
  },
  {
   "cell_type": "code",
   "execution_count": 61,
   "metadata": {
    "colab": {},
    "colab_type": "code",
    "id": "bZXynGN0OzJZ"
   },
   "outputs": [],
   "source": [
    "movies_norm = movies_norm1\n",
    "\n",
    "movies1 = movies1[scores != -1]\n",
    "\n",
    "# FINALIZAÇÃO DO PRE-PROCESSAMENTO"
   ]
  },
  {
   "cell_type": "markdown",
   "metadata": {
    "colab_type": "text",
    "id": "zM3TisuxBuOh"
   },
   "source": [
    "# Estatísticas descritivas & Testes de hipótese"
   ]
  },
  {
   "cell_type": "code",
   "execution_count": 62,
   "metadata": {
    "colab": {
     "base_uri": "https://localhost:8080/",
     "height": 782
    },
    "colab_type": "code",
    "id": "JenEv9BjOgBc",
    "outputId": "9f2a7cdb-f770-4a4b-8a8f-5104d15bc419"
   },
   "outputs": [
    {
     "data": {
      "text/html": [
       "<div>\n",
       "<style scoped>\n",
       "    .dataframe tbody tr th:only-of-type {\n",
       "        vertical-align: middle;\n",
       "    }\n",
       "\n",
       "    .dataframe tbody tr th {\n",
       "        vertical-align: top;\n",
       "    }\n",
       "\n",
       "    .dataframe thead th {\n",
       "        text-align: right;\n",
       "    }\n",
       "</style>\n",
       "<table border=\"1\" class=\"dataframe\">\n",
       "  <thead>\n",
       "    <tr style=\"text-align: right;\">\n",
       "      <th></th>\n",
       "      <th>Year</th>\n",
       "      <th>Rated</th>\n",
       "      <th>Released</th>\n",
       "      <th>Runtime</th>\n",
       "      <th>Genre</th>\n",
       "      <th>Director</th>\n",
       "      <th>Writer</th>\n",
       "      <th>Language</th>\n",
       "      <th>Country</th>\n",
       "      <th>imdbRating</th>\n",
       "      <th>...</th>\n",
       "      <th>oscars</th>\n",
       "      <th>primetime_emmys</th>\n",
       "      <th>oscars_nom</th>\n",
       "      <th>baftas_nom</th>\n",
       "      <th>primetime_emmys_nom</th>\n",
       "      <th>golden_globes_nom</th>\n",
       "      <th>other_awards</th>\n",
       "      <th>other_nominations</th>\n",
       "      <th>leading_actor</th>\n",
       "      <th>imdb_tomatoes</th>\n",
       "    </tr>\n",
       "  </thead>\n",
       "  <tbody>\n",
       "    <tr>\n",
       "      <th>Year</th>\n",
       "      <td>1.000000</td>\n",
       "      <td>0.013012</td>\n",
       "      <td>0.969266</td>\n",
       "      <td>0.123209</td>\n",
       "      <td>-0.080199</td>\n",
       "      <td>-0.002420</td>\n",
       "      <td>0.038993</td>\n",
       "      <td>-0.035865</td>\n",
       "      <td>0.012959</td>\n",
       "      <td>-0.058207</td>\n",
       "      <td>...</td>\n",
       "      <td>-0.001667</td>\n",
       "      <td>-0.006663</td>\n",
       "      <td>-0.021869</td>\n",
       "      <td>-0.010074</td>\n",
       "      <td>-0.015379</td>\n",
       "      <td>-0.026580</td>\n",
       "      <td>-0.253690</td>\n",
       "      <td>-0.249394</td>\n",
       "      <td>-0.014295</td>\n",
       "      <td>0.064967</td>\n",
       "    </tr>\n",
       "    <tr>\n",
       "      <th>Rated</th>\n",
       "      <td>0.013012</td>\n",
       "      <td>1.000000</td>\n",
       "      <td>0.005557</td>\n",
       "      <td>0.147793</td>\n",
       "      <td>-0.126502</td>\n",
       "      <td>-0.006264</td>\n",
       "      <td>0.054658</td>\n",
       "      <td>-0.163376</td>\n",
       "      <td>0.195586</td>\n",
       "      <td>-0.164123</td>\n",
       "      <td>...</td>\n",
       "      <td>0.038224</td>\n",
       "      <td>0.031303</td>\n",
       "      <td>0.067359</td>\n",
       "      <td>0.020081</td>\n",
       "      <td>0.014483</td>\n",
       "      <td>0.054781</td>\n",
       "      <td>0.036028</td>\n",
       "      <td>0.098971</td>\n",
       "      <td>-0.021406</td>\n",
       "      <td>-0.146642</td>\n",
       "    </tr>\n",
       "    <tr>\n",
       "      <th>Released</th>\n",
       "      <td>0.969266</td>\n",
       "      <td>0.005557</td>\n",
       "      <td>1.000000</td>\n",
       "      <td>0.106190</td>\n",
       "      <td>-0.057324</td>\n",
       "      <td>-0.006100</td>\n",
       "      <td>0.034499</td>\n",
       "      <td>-0.033927</td>\n",
       "      <td>-0.008952</td>\n",
       "      <td>-0.051544</td>\n",
       "      <td>...</td>\n",
       "      <td>-0.003069</td>\n",
       "      <td>-0.012844</td>\n",
       "      <td>-0.022909</td>\n",
       "      <td>-0.004276</td>\n",
       "      <td>-0.018755</td>\n",
       "      <td>-0.028938</td>\n",
       "      <td>-0.227000</td>\n",
       "      <td>-0.238249</td>\n",
       "      <td>-0.015820</td>\n",
       "      <td>0.093044</td>\n",
       "    </tr>\n",
       "    <tr>\n",
       "      <th>Runtime</th>\n",
       "      <td>0.123209</td>\n",
       "      <td>0.147793</td>\n",
       "      <td>0.106190</td>\n",
       "      <td>1.000000</td>\n",
       "      <td>-0.136631</td>\n",
       "      <td>0.034341</td>\n",
       "      <td>0.111469</td>\n",
       "      <td>0.193407</td>\n",
       "      <td>-0.158362</td>\n",
       "      <td>0.113180</td>\n",
       "      <td>...</td>\n",
       "      <td>0.063225</td>\n",
       "      <td>0.020070</td>\n",
       "      <td>0.084844</td>\n",
       "      <td>0.015911</td>\n",
       "      <td>0.005386</td>\n",
       "      <td>0.065201</td>\n",
       "      <td>0.117002</td>\n",
       "      <td>0.161319</td>\n",
       "      <td>0.025677</td>\n",
       "      <td>-0.143533</td>\n",
       "    </tr>\n",
       "    <tr>\n",
       "      <th>Genre</th>\n",
       "      <td>-0.080199</td>\n",
       "      <td>-0.126502</td>\n",
       "      <td>-0.057324</td>\n",
       "      <td>-0.136631</td>\n",
       "      <td>1.000000</td>\n",
       "      <td>-0.028213</td>\n",
       "      <td>-0.043700</td>\n",
       "      <td>-0.011434</td>\n",
       "      <td>-0.005780</td>\n",
       "      <td>0.026320</td>\n",
       "      <td>...</td>\n",
       "      <td>0.010436</td>\n",
       "      <td>0.006660</td>\n",
       "      <td>-0.053423</td>\n",
       "      <td>0.005529</td>\n",
       "      <td>0.000726</td>\n",
       "      <td>-0.051033</td>\n",
       "      <td>0.056507</td>\n",
       "      <td>0.017791</td>\n",
       "      <td>0.002156</td>\n",
       "      <td>0.146327</td>\n",
       "    </tr>\n",
       "    <tr>\n",
       "      <th>Director</th>\n",
       "      <td>-0.002420</td>\n",
       "      <td>-0.006264</td>\n",
       "      <td>-0.006100</td>\n",
       "      <td>0.034341</td>\n",
       "      <td>-0.028213</td>\n",
       "      <td>1.000000</td>\n",
       "      <td>0.441256</td>\n",
       "      <td>0.014596</td>\n",
       "      <td>-0.021176</td>\n",
       "      <td>-0.002234</td>\n",
       "      <td>...</td>\n",
       "      <td>-0.010072</td>\n",
       "      <td>-0.015904</td>\n",
       "      <td>0.014064</td>\n",
       "      <td>0.008406</td>\n",
       "      <td>0.011016</td>\n",
       "      <td>0.016816</td>\n",
       "      <td>-0.000667</td>\n",
       "      <td>-0.003468</td>\n",
       "      <td>0.035926</td>\n",
       "      <td>-0.014777</td>\n",
       "    </tr>\n",
       "    <tr>\n",
       "      <th>Writer</th>\n",
       "      <td>0.038993</td>\n",
       "      <td>0.054658</td>\n",
       "      <td>0.034499</td>\n",
       "      <td>0.111469</td>\n",
       "      <td>-0.043700</td>\n",
       "      <td>0.441256</td>\n",
       "      <td>1.000000</td>\n",
       "      <td>0.057883</td>\n",
       "      <td>-0.071752</td>\n",
       "      <td>-0.114529</td>\n",
       "      <td>...</td>\n",
       "      <td>-0.006472</td>\n",
       "      <td>-0.034158</td>\n",
       "      <td>0.005275</td>\n",
       "      <td>-0.011480</td>\n",
       "      <td>-0.006405</td>\n",
       "      <td>0.029099</td>\n",
       "      <td>0.026545</td>\n",
       "      <td>0.042458</td>\n",
       "      <td>0.054009</td>\n",
       "      <td>-0.086195</td>\n",
       "    </tr>\n",
       "    <tr>\n",
       "      <th>Language</th>\n",
       "      <td>-0.035865</td>\n",
       "      <td>-0.163376</td>\n",
       "      <td>-0.033927</td>\n",
       "      <td>0.193407</td>\n",
       "      <td>-0.011434</td>\n",
       "      <td>0.014596</td>\n",
       "      <td>0.057883</td>\n",
       "      <td>1.000000</td>\n",
       "      <td>-0.408979</td>\n",
       "      <td>0.117515</td>\n",
       "      <td>...</td>\n",
       "      <td>0.004102</td>\n",
       "      <td>-0.015756</td>\n",
       "      <td>-0.003171</td>\n",
       "      <td>-0.003444</td>\n",
       "      <td>-0.021587</td>\n",
       "      <td>-0.007156</td>\n",
       "      <td>0.160474</td>\n",
       "      <td>0.162401</td>\n",
       "      <td>0.035810</td>\n",
       "      <td>0.102118</td>\n",
       "    </tr>\n",
       "    <tr>\n",
       "      <th>Country</th>\n",
       "      <td>0.012959</td>\n",
       "      <td>0.195586</td>\n",
       "      <td>-0.008952</td>\n",
       "      <td>-0.158362</td>\n",
       "      <td>-0.005780</td>\n",
       "      <td>-0.021176</td>\n",
       "      <td>-0.071752</td>\n",
       "      <td>-0.408979</td>\n",
       "      <td>1.000000</td>\n",
       "      <td>-0.089671</td>\n",
       "      <td>...</td>\n",
       "      <td>0.011174</td>\n",
       "      <td>0.032338</td>\n",
       "      <td>0.015814</td>\n",
       "      <td>-0.004068</td>\n",
       "      <td>0.021906</td>\n",
       "      <td>0.018848</td>\n",
       "      <td>-0.143612</td>\n",
       "      <td>-0.147282</td>\n",
       "      <td>-0.036678</td>\n",
       "      <td>-0.087177</td>\n",
       "    </tr>\n",
       "    <tr>\n",
       "      <th>imdbRating</th>\n",
       "      <td>-0.058207</td>\n",
       "      <td>-0.164123</td>\n",
       "      <td>-0.051544</td>\n",
       "      <td>0.113180</td>\n",
       "      <td>0.026320</td>\n",
       "      <td>-0.002234</td>\n",
       "      <td>-0.114529</td>\n",
       "      <td>0.117515</td>\n",
       "      <td>-0.089671</td>\n",
       "      <td>1.000000</td>\n",
       "      <td>...</td>\n",
       "      <td>0.079904</td>\n",
       "      <td>0.048085</td>\n",
       "      <td>0.159099</td>\n",
       "      <td>0.059927</td>\n",
       "      <td>0.046880</td>\n",
       "      <td>0.056615</td>\n",
       "      <td>0.322840</td>\n",
       "      <td>0.270584</td>\n",
       "      <td>-0.001649</td>\n",
       "      <td>0.259100</td>\n",
       "    </tr>\n",
       "    <tr>\n",
       "      <th>imdbVotes</th>\n",
       "      <td>-0.008476</td>\n",
       "      <td>0.518854</td>\n",
       "      <td>-0.036728</td>\n",
       "      <td>0.365521</td>\n",
       "      <td>-0.229518</td>\n",
       "      <td>0.003309</td>\n",
       "      <td>0.126894</td>\n",
       "      <td>-0.035321</td>\n",
       "      <td>0.070699</td>\n",
       "      <td>-0.030264</td>\n",
       "      <td>...</td>\n",
       "      <td>0.088076</td>\n",
       "      <td>0.005706</td>\n",
       "      <td>0.178691</td>\n",
       "      <td>0.058977</td>\n",
       "      <td>0.006206</td>\n",
       "      <td>0.125387</td>\n",
       "      <td>0.221497</td>\n",
       "      <td>0.350856</td>\n",
       "      <td>-0.008424</td>\n",
       "      <td>-0.177240</td>\n",
       "    </tr>\n",
       "    <tr>\n",
       "      <th>Production</th>\n",
       "      <td>-0.064838</td>\n",
       "      <td>0.198997</td>\n",
       "      <td>-0.076141</td>\n",
       "      <td>0.102565</td>\n",
       "      <td>-0.096773</td>\n",
       "      <td>-0.019566</td>\n",
       "      <td>0.010576</td>\n",
       "      <td>-0.069721</td>\n",
       "      <td>0.101176</td>\n",
       "      <td>-0.040881</td>\n",
       "      <td>...</td>\n",
       "      <td>0.035019</td>\n",
       "      <td>-0.010829</td>\n",
       "      <td>0.034343</td>\n",
       "      <td>0.012353</td>\n",
       "      <td>0.015595</td>\n",
       "      <td>0.032805</td>\n",
       "      <td>0.028889</td>\n",
       "      <td>0.059935</td>\n",
       "      <td>-0.018553</td>\n",
       "      <td>-0.100308</td>\n",
       "    </tr>\n",
       "    <tr>\n",
       "      <th>tomatoes</th>\n",
       "      <td>0.042665</td>\n",
       "      <td>-0.178570</td>\n",
       "      <td>0.066023</td>\n",
       "      <td>-0.078395</td>\n",
       "      <td>0.127653</td>\n",
       "      <td>-0.011132</td>\n",
       "      <td>-0.118526</td>\n",
       "      <td>0.126058</td>\n",
       "      <td>-0.102673</td>\n",
       "      <td>0.587797</td>\n",
       "      <td>...</td>\n",
       "      <td>0.059348</td>\n",
       "      <td>0.034552</td>\n",
       "      <td>0.116725</td>\n",
       "      <td>0.081989</td>\n",
       "      <td>0.033001</td>\n",
       "      <td>0.033816</td>\n",
       "      <td>0.340381</td>\n",
       "      <td>0.305569</td>\n",
       "      <td>0.008838</td>\n",
       "      <td>0.902770</td>\n",
       "    </tr>\n",
       "    <tr>\n",
       "      <th>oscars</th>\n",
       "      <td>-0.001667</td>\n",
       "      <td>0.038224</td>\n",
       "      <td>-0.003069</td>\n",
       "      <td>0.063225</td>\n",
       "      <td>0.010436</td>\n",
       "      <td>-0.010072</td>\n",
       "      <td>-0.006472</td>\n",
       "      <td>0.004102</td>\n",
       "      <td>0.011174</td>\n",
       "      <td>0.079904</td>\n",
       "      <td>...</td>\n",
       "      <td>1.000000</td>\n",
       "      <td>-0.002049</td>\n",
       "      <td>-0.008467</td>\n",
       "      <td>-0.005035</td>\n",
       "      <td>-0.002807</td>\n",
       "      <td>-0.005490</td>\n",
       "      <td>0.103511</td>\n",
       "      <td>0.100362</td>\n",
       "      <td>0.010700</td>\n",
       "      <td>0.022277</td>\n",
       "    </tr>\n",
       "    <tr>\n",
       "      <th>primetime_emmys</th>\n",
       "      <td>-0.006663</td>\n",
       "      <td>0.031303</td>\n",
       "      <td>-0.012844</td>\n",
       "      <td>0.020070</td>\n",
       "      <td>0.006660</td>\n",
       "      <td>-0.015904</td>\n",
       "      <td>-0.034158</td>\n",
       "      <td>-0.015756</td>\n",
       "      <td>0.032338</td>\n",
       "      <td>0.048085</td>\n",
       "      <td>...</td>\n",
       "      <td>-0.002049</td>\n",
       "      <td>1.000000</td>\n",
       "      <td>-0.004988</td>\n",
       "      <td>-0.002966</td>\n",
       "      <td>-0.001654</td>\n",
       "      <td>-0.003234</td>\n",
       "      <td>0.034809</td>\n",
       "      <td>0.040043</td>\n",
       "      <td>0.014611</td>\n",
       "      <td>0.008589</td>\n",
       "    </tr>\n",
       "    <tr>\n",
       "      <th>oscars_nom</th>\n",
       "      <td>-0.021869</td>\n",
       "      <td>0.067359</td>\n",
       "      <td>-0.022909</td>\n",
       "      <td>0.084844</td>\n",
       "      <td>-0.053423</td>\n",
       "      <td>0.014064</td>\n",
       "      <td>0.005275</td>\n",
       "      <td>-0.003171</td>\n",
       "      <td>0.015814</td>\n",
       "      <td>0.159099</td>\n",
       "      <td>...</td>\n",
       "      <td>-0.008467</td>\n",
       "      <td>-0.004988</td>\n",
       "      <td>1.000000</td>\n",
       "      <td>-0.012255</td>\n",
       "      <td>-0.006834</td>\n",
       "      <td>-0.013364</td>\n",
       "      <td>0.217056</td>\n",
       "      <td>0.224108</td>\n",
       "      <td>-0.014088</td>\n",
       "      <td>0.048739</td>\n",
       "    </tr>\n",
       "    <tr>\n",
       "      <th>baftas_nom</th>\n",
       "      <td>-0.010074</td>\n",
       "      <td>0.020081</td>\n",
       "      <td>-0.004276</td>\n",
       "      <td>0.015911</td>\n",
       "      <td>0.005529</td>\n",
       "      <td>0.008406</td>\n",
       "      <td>-0.011480</td>\n",
       "      <td>-0.003444</td>\n",
       "      <td>-0.004068</td>\n",
       "      <td>0.059927</td>\n",
       "      <td>...</td>\n",
       "      <td>-0.005035</td>\n",
       "      <td>-0.002966</td>\n",
       "      <td>-0.012255</td>\n",
       "      <td>1.000000</td>\n",
       "      <td>-0.004063</td>\n",
       "      <td>-0.007946</td>\n",
       "      <td>0.091409</td>\n",
       "      <td>0.100435</td>\n",
       "      <td>-0.000678</td>\n",
       "      <td>0.066473</td>\n",
       "    </tr>\n",
       "    <tr>\n",
       "      <th>primetime_emmys_nom</th>\n",
       "      <td>-0.015379</td>\n",
       "      <td>0.014483</td>\n",
       "      <td>-0.018755</td>\n",
       "      <td>0.005386</td>\n",
       "      <td>0.000726</td>\n",
       "      <td>0.011016</td>\n",
       "      <td>-0.006405</td>\n",
       "      <td>-0.021587</td>\n",
       "      <td>0.021906</td>\n",
       "      <td>0.046880</td>\n",
       "      <td>...</td>\n",
       "      <td>-0.002807</td>\n",
       "      <td>-0.001654</td>\n",
       "      <td>-0.006834</td>\n",
       "      <td>-0.004063</td>\n",
       "      <td>1.000000</td>\n",
       "      <td>-0.004431</td>\n",
       "      <td>0.015272</td>\n",
       "      <td>0.016583</td>\n",
       "      <td>-0.015476</td>\n",
       "      <td>0.013435</td>\n",
       "    </tr>\n",
       "    <tr>\n",
       "      <th>golden_globes_nom</th>\n",
       "      <td>-0.026580</td>\n",
       "      <td>0.054781</td>\n",
       "      <td>-0.028938</td>\n",
       "      <td>0.065201</td>\n",
       "      <td>-0.051033</td>\n",
       "      <td>0.016816</td>\n",
       "      <td>0.029099</td>\n",
       "      <td>-0.007156</td>\n",
       "      <td>0.018848</td>\n",
       "      <td>0.056615</td>\n",
       "      <td>...</td>\n",
       "      <td>-0.005490</td>\n",
       "      <td>-0.003234</td>\n",
       "      <td>-0.013364</td>\n",
       "      <td>-0.007946</td>\n",
       "      <td>-0.004431</td>\n",
       "      <td>1.000000</td>\n",
       "      <td>0.106218</td>\n",
       "      <td>0.128044</td>\n",
       "      <td>0.016707</td>\n",
       "      <td>0.019592</td>\n",
       "    </tr>\n",
       "    <tr>\n",
       "      <th>other_awards</th>\n",
       "      <td>-0.253690</td>\n",
       "      <td>0.036028</td>\n",
       "      <td>-0.227000</td>\n",
       "      <td>0.117002</td>\n",
       "      <td>0.056507</td>\n",
       "      <td>-0.000667</td>\n",
       "      <td>0.026545</td>\n",
       "      <td>0.160474</td>\n",
       "      <td>-0.143612</td>\n",
       "      <td>0.322840</td>\n",
       "      <td>...</td>\n",
       "      <td>0.103511</td>\n",
       "      <td>0.034809</td>\n",
       "      <td>0.217056</td>\n",
       "      <td>0.091409</td>\n",
       "      <td>0.015272</td>\n",
       "      <td>0.106218</td>\n",
       "      <td>1.000000</td>\n",
       "      <td>0.701450</td>\n",
       "      <td>0.015470</td>\n",
       "      <td>0.260240</td>\n",
       "    </tr>\n",
       "    <tr>\n",
       "      <th>other_nominations</th>\n",
       "      <td>-0.249394</td>\n",
       "      <td>0.098971</td>\n",
       "      <td>-0.238249</td>\n",
       "      <td>0.161319</td>\n",
       "      <td>0.017791</td>\n",
       "      <td>-0.003468</td>\n",
       "      <td>0.042458</td>\n",
       "      <td>0.162401</td>\n",
       "      <td>-0.147282</td>\n",
       "      <td>0.270584</td>\n",
       "      <td>...</td>\n",
       "      <td>0.100362</td>\n",
       "      <td>0.040043</td>\n",
       "      <td>0.224108</td>\n",
       "      <td>0.100435</td>\n",
       "      <td>0.016583</td>\n",
       "      <td>0.128044</td>\n",
       "      <td>0.701450</td>\n",
       "      <td>1.000000</td>\n",
       "      <td>0.009651</td>\n",
       "      <td>0.246073</td>\n",
       "    </tr>\n",
       "    <tr>\n",
       "      <th>leading_actor</th>\n",
       "      <td>-0.014295</td>\n",
       "      <td>-0.021406</td>\n",
       "      <td>-0.015820</td>\n",
       "      <td>0.025677</td>\n",
       "      <td>0.002156</td>\n",
       "      <td>0.035926</td>\n",
       "      <td>0.054009</td>\n",
       "      <td>0.035810</td>\n",
       "      <td>-0.036678</td>\n",
       "      <td>-0.001649</td>\n",
       "      <td>...</td>\n",
       "      <td>0.010700</td>\n",
       "      <td>0.014611</td>\n",
       "      <td>-0.014088</td>\n",
       "      <td>-0.000678</td>\n",
       "      <td>-0.015476</td>\n",
       "      <td>0.016707</td>\n",
       "      <td>0.015470</td>\n",
       "      <td>0.009651</td>\n",
       "      <td>1.000000</td>\n",
       "      <td>0.008723</td>\n",
       "    </tr>\n",
       "    <tr>\n",
       "      <th>imdb_tomatoes</th>\n",
       "      <td>0.064967</td>\n",
       "      <td>-0.146642</td>\n",
       "      <td>0.093044</td>\n",
       "      <td>-0.143533</td>\n",
       "      <td>0.146327</td>\n",
       "      <td>-0.014777</td>\n",
       "      <td>-0.086195</td>\n",
       "      <td>0.102118</td>\n",
       "      <td>-0.087177</td>\n",
       "      <td>0.259100</td>\n",
       "      <td>...</td>\n",
       "      <td>0.022277</td>\n",
       "      <td>0.008589</td>\n",
       "      <td>0.048739</td>\n",
       "      <td>0.066473</td>\n",
       "      <td>0.013435</td>\n",
       "      <td>0.019592</td>\n",
       "      <td>0.260240</td>\n",
       "      <td>0.246073</td>\n",
       "      <td>0.008723</td>\n",
       "      <td>1.000000</td>\n",
       "    </tr>\n",
       "  </tbody>\n",
       "</table>\n",
       "<p>23 rows × 23 columns</p>\n",
       "</div>"
      ],
      "text/plain": [
       "                         Year     Rated  Released   Runtime     Genre  \\\n",
       "Year                 1.000000  0.013012  0.969266  0.123209 -0.080199   \n",
       "Rated                0.013012  1.000000  0.005557  0.147793 -0.126502   \n",
       "Released             0.969266  0.005557  1.000000  0.106190 -0.057324   \n",
       "Runtime              0.123209  0.147793  0.106190  1.000000 -0.136631   \n",
       "Genre               -0.080199 -0.126502 -0.057324 -0.136631  1.000000   \n",
       "Director            -0.002420 -0.006264 -0.006100  0.034341 -0.028213   \n",
       "Writer               0.038993  0.054658  0.034499  0.111469 -0.043700   \n",
       "Language            -0.035865 -0.163376 -0.033927  0.193407 -0.011434   \n",
       "Country              0.012959  0.195586 -0.008952 -0.158362 -0.005780   \n",
       "imdbRating          -0.058207 -0.164123 -0.051544  0.113180  0.026320   \n",
       "imdbVotes           -0.008476  0.518854 -0.036728  0.365521 -0.229518   \n",
       "Production          -0.064838  0.198997 -0.076141  0.102565 -0.096773   \n",
       "tomatoes             0.042665 -0.178570  0.066023 -0.078395  0.127653   \n",
       "oscars              -0.001667  0.038224 -0.003069  0.063225  0.010436   \n",
       "primetime_emmys     -0.006663  0.031303 -0.012844  0.020070  0.006660   \n",
       "oscars_nom          -0.021869  0.067359 -0.022909  0.084844 -0.053423   \n",
       "baftas_nom          -0.010074  0.020081 -0.004276  0.015911  0.005529   \n",
       "primetime_emmys_nom -0.015379  0.014483 -0.018755  0.005386  0.000726   \n",
       "golden_globes_nom   -0.026580  0.054781 -0.028938  0.065201 -0.051033   \n",
       "other_awards        -0.253690  0.036028 -0.227000  0.117002  0.056507   \n",
       "other_nominations   -0.249394  0.098971 -0.238249  0.161319  0.017791   \n",
       "leading_actor       -0.014295 -0.021406 -0.015820  0.025677  0.002156   \n",
       "imdb_tomatoes        0.064967 -0.146642  0.093044 -0.143533  0.146327   \n",
       "\n",
       "                     Director    Writer  Language   Country  imdbRating  ...  \\\n",
       "Year                -0.002420  0.038993 -0.035865  0.012959   -0.058207  ...   \n",
       "Rated               -0.006264  0.054658 -0.163376  0.195586   -0.164123  ...   \n",
       "Released            -0.006100  0.034499 -0.033927 -0.008952   -0.051544  ...   \n",
       "Runtime              0.034341  0.111469  0.193407 -0.158362    0.113180  ...   \n",
       "Genre               -0.028213 -0.043700 -0.011434 -0.005780    0.026320  ...   \n",
       "Director             1.000000  0.441256  0.014596 -0.021176   -0.002234  ...   \n",
       "Writer               0.441256  1.000000  0.057883 -0.071752   -0.114529  ...   \n",
       "Language             0.014596  0.057883  1.000000 -0.408979    0.117515  ...   \n",
       "Country             -0.021176 -0.071752 -0.408979  1.000000   -0.089671  ...   \n",
       "imdbRating          -0.002234 -0.114529  0.117515 -0.089671    1.000000  ...   \n",
       "imdbVotes            0.003309  0.126894 -0.035321  0.070699   -0.030264  ...   \n",
       "Production          -0.019566  0.010576 -0.069721  0.101176   -0.040881  ...   \n",
       "tomatoes            -0.011132 -0.118526  0.126058 -0.102673    0.587797  ...   \n",
       "oscars              -0.010072 -0.006472  0.004102  0.011174    0.079904  ...   \n",
       "primetime_emmys     -0.015904 -0.034158 -0.015756  0.032338    0.048085  ...   \n",
       "oscars_nom           0.014064  0.005275 -0.003171  0.015814    0.159099  ...   \n",
       "baftas_nom           0.008406 -0.011480 -0.003444 -0.004068    0.059927  ...   \n",
       "primetime_emmys_nom  0.011016 -0.006405 -0.021587  0.021906    0.046880  ...   \n",
       "golden_globes_nom    0.016816  0.029099 -0.007156  0.018848    0.056615  ...   \n",
       "other_awards        -0.000667  0.026545  0.160474 -0.143612    0.322840  ...   \n",
       "other_nominations   -0.003468  0.042458  0.162401 -0.147282    0.270584  ...   \n",
       "leading_actor        0.035926  0.054009  0.035810 -0.036678   -0.001649  ...   \n",
       "imdb_tomatoes       -0.014777 -0.086195  0.102118 -0.087177    0.259100  ...   \n",
       "\n",
       "                       oscars  primetime_emmys  oscars_nom  baftas_nom  \\\n",
       "Year                -0.001667        -0.006663   -0.021869   -0.010074   \n",
       "Rated                0.038224         0.031303    0.067359    0.020081   \n",
       "Released            -0.003069        -0.012844   -0.022909   -0.004276   \n",
       "Runtime              0.063225         0.020070    0.084844    0.015911   \n",
       "Genre                0.010436         0.006660   -0.053423    0.005529   \n",
       "Director            -0.010072        -0.015904    0.014064    0.008406   \n",
       "Writer              -0.006472        -0.034158    0.005275   -0.011480   \n",
       "Language             0.004102        -0.015756   -0.003171   -0.003444   \n",
       "Country              0.011174         0.032338    0.015814   -0.004068   \n",
       "imdbRating           0.079904         0.048085    0.159099    0.059927   \n",
       "imdbVotes            0.088076         0.005706    0.178691    0.058977   \n",
       "Production           0.035019        -0.010829    0.034343    0.012353   \n",
       "tomatoes             0.059348         0.034552    0.116725    0.081989   \n",
       "oscars               1.000000        -0.002049   -0.008467   -0.005035   \n",
       "primetime_emmys     -0.002049         1.000000   -0.004988   -0.002966   \n",
       "oscars_nom          -0.008467        -0.004988    1.000000   -0.012255   \n",
       "baftas_nom          -0.005035        -0.002966   -0.012255    1.000000   \n",
       "primetime_emmys_nom -0.002807        -0.001654   -0.006834   -0.004063   \n",
       "golden_globes_nom   -0.005490        -0.003234   -0.013364   -0.007946   \n",
       "other_awards         0.103511         0.034809    0.217056    0.091409   \n",
       "other_nominations    0.100362         0.040043    0.224108    0.100435   \n",
       "leading_actor        0.010700         0.014611   -0.014088   -0.000678   \n",
       "imdb_tomatoes        0.022277         0.008589    0.048739    0.066473   \n",
       "\n",
       "                     primetime_emmys_nom  golden_globes_nom  other_awards  \\\n",
       "Year                           -0.015379          -0.026580     -0.253690   \n",
       "Rated                           0.014483           0.054781      0.036028   \n",
       "Released                       -0.018755          -0.028938     -0.227000   \n",
       "Runtime                         0.005386           0.065201      0.117002   \n",
       "Genre                           0.000726          -0.051033      0.056507   \n",
       "Director                        0.011016           0.016816     -0.000667   \n",
       "Writer                         -0.006405           0.029099      0.026545   \n",
       "Language                       -0.021587          -0.007156      0.160474   \n",
       "Country                         0.021906           0.018848     -0.143612   \n",
       "imdbRating                      0.046880           0.056615      0.322840   \n",
       "imdbVotes                       0.006206           0.125387      0.221497   \n",
       "Production                      0.015595           0.032805      0.028889   \n",
       "tomatoes                        0.033001           0.033816      0.340381   \n",
       "oscars                         -0.002807          -0.005490      0.103511   \n",
       "primetime_emmys                -0.001654          -0.003234      0.034809   \n",
       "oscars_nom                     -0.006834          -0.013364      0.217056   \n",
       "baftas_nom                     -0.004063          -0.007946      0.091409   \n",
       "primetime_emmys_nom             1.000000          -0.004431      0.015272   \n",
       "golden_globes_nom              -0.004431           1.000000      0.106218   \n",
       "other_awards                    0.015272           0.106218      1.000000   \n",
       "other_nominations               0.016583           0.128044      0.701450   \n",
       "leading_actor                  -0.015476           0.016707      0.015470   \n",
       "imdb_tomatoes                   0.013435           0.019592      0.260240   \n",
       "\n",
       "                     other_nominations  leading_actor  imdb_tomatoes  \n",
       "Year                         -0.249394      -0.014295       0.064967  \n",
       "Rated                         0.098971      -0.021406      -0.146642  \n",
       "Released                     -0.238249      -0.015820       0.093044  \n",
       "Runtime                       0.161319       0.025677      -0.143533  \n",
       "Genre                         0.017791       0.002156       0.146327  \n",
       "Director                     -0.003468       0.035926      -0.014777  \n",
       "Writer                        0.042458       0.054009      -0.086195  \n",
       "Language                      0.162401       0.035810       0.102118  \n",
       "Country                      -0.147282      -0.036678      -0.087177  \n",
       "imdbRating                    0.270584      -0.001649       0.259100  \n",
       "imdbVotes                     0.350856      -0.008424      -0.177240  \n",
       "Production                    0.059935      -0.018553      -0.100308  \n",
       "tomatoes                      0.305569       0.008838       0.902770  \n",
       "oscars                        0.100362       0.010700       0.022277  \n",
       "primetime_emmys               0.040043       0.014611       0.008589  \n",
       "oscars_nom                    0.224108      -0.014088       0.048739  \n",
       "baftas_nom                    0.100435      -0.000678       0.066473  \n",
       "primetime_emmys_nom           0.016583      -0.015476       0.013435  \n",
       "golden_globes_nom             0.128044       0.016707       0.019592  \n",
       "other_awards                  0.701450       0.015470       0.260240  \n",
       "other_nominations             1.000000       0.009651       0.246073  \n",
       "leading_actor                 0.009651       1.000000       0.008723  \n",
       "imdb_tomatoes                 0.246073       0.008723       1.000000  \n",
       "\n",
       "[23 rows x 23 columns]"
      ]
     },
     "execution_count": 62,
     "metadata": {},
     "output_type": "execute_result"
    }
   ],
   "source": [
    "movies_norm.corr(method='spearman')"
   ]
  },
  {
   "cell_type": "code",
   "execution_count": 63,
   "metadata": {
    "colab": {
     "base_uri": "https://localhost:8080/",
     "height": 782
    },
    "colab_type": "code",
    "id": "FvDpDx6VQcRY",
    "outputId": "c61f3e50-e1bf-4919-81c0-415f3365c740"
   },
   "outputs": [
    {
     "data": {
      "text/html": [
       "<div>\n",
       "<style scoped>\n",
       "    .dataframe tbody tr th:only-of-type {\n",
       "        vertical-align: middle;\n",
       "    }\n",
       "\n",
       "    .dataframe tbody tr th {\n",
       "        vertical-align: top;\n",
       "    }\n",
       "\n",
       "    .dataframe thead th {\n",
       "        text-align: right;\n",
       "    }\n",
       "</style>\n",
       "<table border=\"1\" class=\"dataframe\">\n",
       "  <thead>\n",
       "    <tr style=\"text-align: right;\">\n",
       "      <th></th>\n",
       "      <th>Year</th>\n",
       "      <th>Rated</th>\n",
       "      <th>Released</th>\n",
       "      <th>Runtime</th>\n",
       "      <th>Genre</th>\n",
       "      <th>Director</th>\n",
       "      <th>Writer</th>\n",
       "      <th>Language</th>\n",
       "      <th>Country</th>\n",
       "      <th>imdbRating</th>\n",
       "      <th>...</th>\n",
       "      <th>oscars</th>\n",
       "      <th>primetime_emmys</th>\n",
       "      <th>oscars_nom</th>\n",
       "      <th>baftas_nom</th>\n",
       "      <th>primetime_emmys_nom</th>\n",
       "      <th>golden_globes_nom</th>\n",
       "      <th>other_awards</th>\n",
       "      <th>other_nominations</th>\n",
       "      <th>leading_actor</th>\n",
       "      <th>imdb_tomatoes</th>\n",
       "    </tr>\n",
       "  </thead>\n",
       "  <tbody>\n",
       "    <tr>\n",
       "      <th>Year</th>\n",
       "      <td>1.000000</td>\n",
       "      <td>-0.073127</td>\n",
       "      <td>0.967885</td>\n",
       "      <td>0.127024</td>\n",
       "      <td>-0.054811</td>\n",
       "      <td>-0.001766</td>\n",
       "      <td>0.038963</td>\n",
       "      <td>-0.035750</td>\n",
       "      <td>0.017286</td>\n",
       "      <td>-0.054738</td>\n",
       "      <td>...</td>\n",
       "      <td>0.000841</td>\n",
       "      <td>-0.005730</td>\n",
       "      <td>-0.009089</td>\n",
       "      <td>-0.002458</td>\n",
       "      <td>-0.017731</td>\n",
       "      <td>-0.023113</td>\n",
       "      <td>-0.134458</td>\n",
       "      <td>-0.092391</td>\n",
       "      <td>-0.014543</td>\n",
       "      <td>0.055572</td>\n",
       "    </tr>\n",
       "    <tr>\n",
       "      <th>Rated</th>\n",
       "      <td>-0.073127</td>\n",
       "      <td>1.000000</td>\n",
       "      <td>-0.080743</td>\n",
       "      <td>0.133127</td>\n",
       "      <td>-0.114427</td>\n",
       "      <td>-0.000757</td>\n",
       "      <td>0.042218</td>\n",
       "      <td>-0.126549</td>\n",
       "      <td>0.144576</td>\n",
       "      <td>-0.139299</td>\n",
       "      <td>...</td>\n",
       "      <td>0.036219</td>\n",
       "      <td>0.024296</td>\n",
       "      <td>0.070668</td>\n",
       "      <td>0.018702</td>\n",
       "      <td>0.002218</td>\n",
       "      <td>0.048356</td>\n",
       "      <td>0.086053</td>\n",
       "      <td>0.131212</td>\n",
       "      <td>-0.021852</td>\n",
       "      <td>-0.138079</td>\n",
       "    </tr>\n",
       "    <tr>\n",
       "      <th>Released</th>\n",
       "      <td>0.967885</td>\n",
       "      <td>-0.080743</td>\n",
       "      <td>1.000000</td>\n",
       "      <td>0.108200</td>\n",
       "      <td>-0.038336</td>\n",
       "      <td>-0.005221</td>\n",
       "      <td>0.035488</td>\n",
       "      <td>-0.026982</td>\n",
       "      <td>-0.002100</td>\n",
       "      <td>-0.048379</td>\n",
       "      <td>...</td>\n",
       "      <td>0.000298</td>\n",
       "      <td>-0.010222</td>\n",
       "      <td>-0.009358</td>\n",
       "      <td>0.004440</td>\n",
       "      <td>-0.018783</td>\n",
       "      <td>-0.025440</td>\n",
       "      <td>-0.122245</td>\n",
       "      <td>-0.090090</td>\n",
       "      <td>-0.016239</td>\n",
       "      <td>0.082846</td>\n",
       "    </tr>\n",
       "    <tr>\n",
       "      <th>Runtime</th>\n",
       "      <td>0.127024</td>\n",
       "      <td>0.133127</td>\n",
       "      <td>0.108200</td>\n",
       "      <td>1.000000</td>\n",
       "      <td>-0.175393</td>\n",
       "      <td>0.033592</td>\n",
       "      <td>0.105888</td>\n",
       "      <td>0.114041</td>\n",
       "      <td>-0.140993</td>\n",
       "      <td>0.104988</td>\n",
       "      <td>...</td>\n",
       "      <td>0.077085</td>\n",
       "      <td>0.018435</td>\n",
       "      <td>0.097106</td>\n",
       "      <td>0.007721</td>\n",
       "      <td>0.005235</td>\n",
       "      <td>0.068768</td>\n",
       "      <td>0.166743</td>\n",
       "      <td>0.225350</td>\n",
       "      <td>0.027766</td>\n",
       "      <td>-0.113558</td>\n",
       "    </tr>\n",
       "    <tr>\n",
       "      <th>Genre</th>\n",
       "      <td>-0.054811</td>\n",
       "      <td>-0.114427</td>\n",
       "      <td>-0.038336</td>\n",
       "      <td>-0.175393</td>\n",
       "      <td>1.000000</td>\n",
       "      <td>-0.028997</td>\n",
       "      <td>-0.038458</td>\n",
       "      <td>-0.003614</td>\n",
       "      <td>0.022358</td>\n",
       "      <td>-0.022702</td>\n",
       "      <td>...</td>\n",
       "      <td>-0.001869</td>\n",
       "      <td>0.006058</td>\n",
       "      <td>-0.046594</td>\n",
       "      <td>-0.003817</td>\n",
       "      <td>0.002986</td>\n",
       "      <td>-0.039008</td>\n",
       "      <td>-0.000854</td>\n",
       "      <td>-0.046479</td>\n",
       "      <td>0.000722</td>\n",
       "      <td>0.112195</td>\n",
       "    </tr>\n",
       "    <tr>\n",
       "      <th>Director</th>\n",
       "      <td>-0.001766</td>\n",
       "      <td>-0.000757</td>\n",
       "      <td>-0.005221</td>\n",
       "      <td>0.033592</td>\n",
       "      <td>-0.028997</td>\n",
       "      <td>1.000000</td>\n",
       "      <td>0.453075</td>\n",
       "      <td>-0.008922</td>\n",
       "      <td>-0.022025</td>\n",
       "      <td>-0.013536</td>\n",
       "      <td>...</td>\n",
       "      <td>-0.010305</td>\n",
       "      <td>-0.021395</td>\n",
       "      <td>0.014950</td>\n",
       "      <td>0.010728</td>\n",
       "      <td>0.007480</td>\n",
       "      <td>0.019546</td>\n",
       "      <td>-0.001476</td>\n",
       "      <td>0.006873</td>\n",
       "      <td>0.035581</td>\n",
       "      <td>-0.015625</td>\n",
       "    </tr>\n",
       "    <tr>\n",
       "      <th>Writer</th>\n",
       "      <td>0.038963</td>\n",
       "      <td>0.042218</td>\n",
       "      <td>0.035488</td>\n",
       "      <td>0.105888</td>\n",
       "      <td>-0.038458</td>\n",
       "      <td>0.453075</td>\n",
       "      <td>1.000000</td>\n",
       "      <td>0.020662</td>\n",
       "      <td>-0.062402</td>\n",
       "      <td>-0.106605</td>\n",
       "      <td>...</td>\n",
       "      <td>-0.008325</td>\n",
       "      <td>-0.029267</td>\n",
       "      <td>0.013663</td>\n",
       "      <td>-0.007691</td>\n",
       "      <td>-0.009415</td>\n",
       "      <td>0.031226</td>\n",
       "      <td>0.039946</td>\n",
       "      <td>0.050941</td>\n",
       "      <td>0.053446</td>\n",
       "      <td>-0.077696</td>\n",
       "    </tr>\n",
       "    <tr>\n",
       "      <th>Language</th>\n",
       "      <td>-0.035750</td>\n",
       "      <td>-0.126549</td>\n",
       "      <td>-0.026982</td>\n",
       "      <td>0.114041</td>\n",
       "      <td>-0.003614</td>\n",
       "      <td>-0.008922</td>\n",
       "      <td>0.020662</td>\n",
       "      <td>1.000000</td>\n",
       "      <td>-0.195923</td>\n",
       "      <td>0.088502</td>\n",
       "      <td>...</td>\n",
       "      <td>0.008814</td>\n",
       "      <td>-0.010961</td>\n",
       "      <td>-0.013364</td>\n",
       "      <td>0.002227</td>\n",
       "      <td>-0.014246</td>\n",
       "      <td>-0.011468</td>\n",
       "      <td>0.150259</td>\n",
       "      <td>0.086898</td>\n",
       "      <td>0.021650</td>\n",
       "      <td>0.103110</td>\n",
       "    </tr>\n",
       "    <tr>\n",
       "      <th>Country</th>\n",
       "      <td>0.017286</td>\n",
       "      <td>0.144576</td>\n",
       "      <td>-0.002100</td>\n",
       "      <td>-0.140993</td>\n",
       "      <td>0.022358</td>\n",
       "      <td>-0.022025</td>\n",
       "      <td>-0.062402</td>\n",
       "      <td>-0.195923</td>\n",
       "      <td>1.000000</td>\n",
       "      <td>-0.062579</td>\n",
       "      <td>...</td>\n",
       "      <td>0.016890</td>\n",
       "      <td>0.021655</td>\n",
       "      <td>0.030662</td>\n",
       "      <td>0.043703</td>\n",
       "      <td>0.020635</td>\n",
       "      <td>0.010749</td>\n",
       "      <td>-0.101741</td>\n",
       "      <td>-0.057795</td>\n",
       "      <td>-0.035563</td>\n",
       "      <td>-0.070624</td>\n",
       "    </tr>\n",
       "    <tr>\n",
       "      <th>imdbRating</th>\n",
       "      <td>-0.054738</td>\n",
       "      <td>-0.139299</td>\n",
       "      <td>-0.048379</td>\n",
       "      <td>0.104988</td>\n",
       "      <td>-0.022702</td>\n",
       "      <td>-0.013536</td>\n",
       "      <td>-0.106605</td>\n",
       "      <td>0.088502</td>\n",
       "      <td>-0.062579</td>\n",
       "      <td>1.000000</td>\n",
       "      <td>...</td>\n",
       "      <td>0.071327</td>\n",
       "      <td>0.045635</td>\n",
       "      <td>0.125373</td>\n",
       "      <td>0.051950</td>\n",
       "      <td>0.036615</td>\n",
       "      <td>0.046620</td>\n",
       "      <td>0.267944</td>\n",
       "      <td>0.244007</td>\n",
       "      <td>-0.003006</td>\n",
       "      <td>0.305126</td>\n",
       "    </tr>\n",
       "    <tr>\n",
       "      <th>imdbVotes</th>\n",
       "      <td>-0.003896</td>\n",
       "      <td>0.214815</td>\n",
       "      <td>-0.035081</td>\n",
       "      <td>0.270662</td>\n",
       "      <td>-0.193008</td>\n",
       "      <td>0.006360</td>\n",
       "      <td>0.050877</td>\n",
       "      <td>-0.088899</td>\n",
       "      <td>0.114913</td>\n",
       "      <td>0.112936</td>\n",
       "      <td>...</td>\n",
       "      <td>0.165378</td>\n",
       "      <td>-0.003317</td>\n",
       "      <td>0.224306</td>\n",
       "      <td>0.015741</td>\n",
       "      <td>-0.010467</td>\n",
       "      <td>0.124122</td>\n",
       "      <td>0.236193</td>\n",
       "      <td>0.406385</td>\n",
       "      <td>0.004789</td>\n",
       "      <td>-0.067227</td>\n",
       "    </tr>\n",
       "    <tr>\n",
       "      <th>Production</th>\n",
       "      <td>-0.061832</td>\n",
       "      <td>0.226262</td>\n",
       "      <td>-0.073638</td>\n",
       "      <td>0.096143</td>\n",
       "      <td>-0.076128</td>\n",
       "      <td>-0.019441</td>\n",
       "      <td>0.007575</td>\n",
       "      <td>-0.078259</td>\n",
       "      <td>0.059409</td>\n",
       "      <td>-0.035801</td>\n",
       "      <td>...</td>\n",
       "      <td>0.031842</td>\n",
       "      <td>-0.010193</td>\n",
       "      <td>0.039889</td>\n",
       "      <td>0.009970</td>\n",
       "      <td>0.015708</td>\n",
       "      <td>0.032659</td>\n",
       "      <td>0.035358</td>\n",
       "      <td>0.055694</td>\n",
       "      <td>-0.017732</td>\n",
       "      <td>-0.090400</td>\n",
       "    </tr>\n",
       "    <tr>\n",
       "      <th>tomatoes</th>\n",
       "      <td>0.027552</td>\n",
       "      <td>-0.160875</td>\n",
       "      <td>0.052367</td>\n",
       "      <td>-0.063835</td>\n",
       "      <td>0.085185</td>\n",
       "      <td>-0.015308</td>\n",
       "      <td>-0.106341</td>\n",
       "      <td>0.122400</td>\n",
       "      <td>-0.082245</td>\n",
       "      <td>0.589397</td>\n",
       "      <td>...</td>\n",
       "      <td>0.052205</td>\n",
       "      <td>0.030140</td>\n",
       "      <td>0.090798</td>\n",
       "      <td>0.069915</td>\n",
       "      <td>0.022525</td>\n",
       "      <td>0.035903</td>\n",
       "      <td>0.264308</td>\n",
       "      <td>0.247802</td>\n",
       "      <td>0.006845</td>\n",
       "      <td>0.934608</td>\n",
       "    </tr>\n",
       "    <tr>\n",
       "      <th>oscars</th>\n",
       "      <td>0.000841</td>\n",
       "      <td>0.036219</td>\n",
       "      <td>0.000298</td>\n",
       "      <td>0.077085</td>\n",
       "      <td>-0.001869</td>\n",
       "      <td>-0.010305</td>\n",
       "      <td>-0.008325</td>\n",
       "      <td>0.008814</td>\n",
       "      <td>0.016890</td>\n",
       "      <td>0.071327</td>\n",
       "      <td>...</td>\n",
       "      <td>1.000000</td>\n",
       "      <td>-0.001779</td>\n",
       "      <td>-0.007203</td>\n",
       "      <td>-0.004589</td>\n",
       "      <td>-0.002312</td>\n",
       "      <td>-0.005152</td>\n",
       "      <td>0.303247</td>\n",
       "      <td>0.287908</td>\n",
       "      <td>0.008875</td>\n",
       "      <td>0.026509</td>\n",
       "    </tr>\n",
       "    <tr>\n",
       "      <th>primetime_emmys</th>\n",
       "      <td>-0.005730</td>\n",
       "      <td>0.024296</td>\n",
       "      <td>-0.010222</td>\n",
       "      <td>0.018435</td>\n",
       "      <td>0.006058</td>\n",
       "      <td>-0.021395</td>\n",
       "      <td>-0.029267</td>\n",
       "      <td>-0.010961</td>\n",
       "      <td>0.021655</td>\n",
       "      <td>0.045635</td>\n",
       "      <td>...</td>\n",
       "      <td>-0.001779</td>\n",
       "      <td>1.000000</td>\n",
       "      <td>-0.003824</td>\n",
       "      <td>-0.002436</td>\n",
       "      <td>-0.001227</td>\n",
       "      <td>-0.002735</td>\n",
       "      <td>0.007955</td>\n",
       "      <td>0.031360</td>\n",
       "      <td>0.007826</td>\n",
       "      <td>0.013009</td>\n",
       "    </tr>\n",
       "    <tr>\n",
       "      <th>oscars_nom</th>\n",
       "      <td>-0.009089</td>\n",
       "      <td>0.070668</td>\n",
       "      <td>-0.009358</td>\n",
       "      <td>0.097106</td>\n",
       "      <td>-0.046594</td>\n",
       "      <td>0.014950</td>\n",
       "      <td>0.013663</td>\n",
       "      <td>-0.013364</td>\n",
       "      <td>0.030662</td>\n",
       "      <td>0.125373</td>\n",
       "      <td>...</td>\n",
       "      <td>-0.007203</td>\n",
       "      <td>-0.003824</td>\n",
       "      <td>1.000000</td>\n",
       "      <td>-0.009865</td>\n",
       "      <td>-0.004970</td>\n",
       "      <td>-0.011077</td>\n",
       "      <td>0.337279</td>\n",
       "      <td>0.476527</td>\n",
       "      <td>-0.007426</td>\n",
       "      <td>0.046985</td>\n",
       "    </tr>\n",
       "    <tr>\n",
       "      <th>baftas_nom</th>\n",
       "      <td>-0.002458</td>\n",
       "      <td>0.018702</td>\n",
       "      <td>0.004440</td>\n",
       "      <td>0.007721</td>\n",
       "      <td>-0.003817</td>\n",
       "      <td>0.010728</td>\n",
       "      <td>-0.007691</td>\n",
       "      <td>0.002227</td>\n",
       "      <td>0.043703</td>\n",
       "      <td>0.051950</td>\n",
       "      <td>...</td>\n",
       "      <td>-0.004589</td>\n",
       "      <td>-0.002436</td>\n",
       "      <td>-0.009865</td>\n",
       "      <td>1.000000</td>\n",
       "      <td>-0.003166</td>\n",
       "      <td>-0.007057</td>\n",
       "      <td>0.065241</td>\n",
       "      <td>0.097597</td>\n",
       "      <td>-0.005375</td>\n",
       "      <td>0.055060</td>\n",
       "    </tr>\n",
       "    <tr>\n",
       "      <th>primetime_emmys_nom</th>\n",
       "      <td>-0.017731</td>\n",
       "      <td>0.002218</td>\n",
       "      <td>-0.018783</td>\n",
       "      <td>0.005235</td>\n",
       "      <td>0.002986</td>\n",
       "      <td>0.007480</td>\n",
       "      <td>-0.009415</td>\n",
       "      <td>-0.014246</td>\n",
       "      <td>0.020635</td>\n",
       "      <td>0.036615</td>\n",
       "      <td>...</td>\n",
       "      <td>-0.002312</td>\n",
       "      <td>-0.001227</td>\n",
       "      <td>-0.004970</td>\n",
       "      <td>-0.003166</td>\n",
       "      <td>1.000000</td>\n",
       "      <td>-0.003555</td>\n",
       "      <td>0.002272</td>\n",
       "      <td>-0.003511</td>\n",
       "      <td>-0.008327</td>\n",
       "      <td>0.008998</td>\n",
       "    </tr>\n",
       "    <tr>\n",
       "      <th>golden_globes_nom</th>\n",
       "      <td>-0.023113</td>\n",
       "      <td>0.048356</td>\n",
       "      <td>-0.025440</td>\n",
       "      <td>0.068768</td>\n",
       "      <td>-0.039008</td>\n",
       "      <td>0.019546</td>\n",
       "      <td>0.031226</td>\n",
       "      <td>-0.011468</td>\n",
       "      <td>0.010749</td>\n",
       "      <td>0.046620</td>\n",
       "      <td>...</td>\n",
       "      <td>-0.005152</td>\n",
       "      <td>-0.002735</td>\n",
       "      <td>-0.011077</td>\n",
       "      <td>-0.007057</td>\n",
       "      <td>-0.003555</td>\n",
       "      <td>1.000000</td>\n",
       "      <td>0.090681</td>\n",
       "      <td>0.159669</td>\n",
       "      <td>0.010315</td>\n",
       "      <td>0.022384</td>\n",
       "    </tr>\n",
       "    <tr>\n",
       "      <th>other_awards</th>\n",
       "      <td>-0.134458</td>\n",
       "      <td>0.086053</td>\n",
       "      <td>-0.122245</td>\n",
       "      <td>0.166743</td>\n",
       "      <td>-0.000854</td>\n",
       "      <td>-0.001476</td>\n",
       "      <td>0.039946</td>\n",
       "      <td>0.150259</td>\n",
       "      <td>-0.101741</td>\n",
       "      <td>0.267944</td>\n",
       "      <td>...</td>\n",
       "      <td>0.303247</td>\n",
       "      <td>0.007955</td>\n",
       "      <td>0.337279</td>\n",
       "      <td>0.065241</td>\n",
       "      <td>0.002272</td>\n",
       "      <td>0.090681</td>\n",
       "      <td>1.000000</td>\n",
       "      <td>0.757732</td>\n",
       "      <td>0.007526</td>\n",
       "      <td>0.182566</td>\n",
       "    </tr>\n",
       "    <tr>\n",
       "      <th>other_nominations</th>\n",
       "      <td>-0.092391</td>\n",
       "      <td>0.131212</td>\n",
       "      <td>-0.090090</td>\n",
       "      <td>0.225350</td>\n",
       "      <td>-0.046479</td>\n",
       "      <td>0.006873</td>\n",
       "      <td>0.050941</td>\n",
       "      <td>0.086898</td>\n",
       "      <td>-0.057795</td>\n",
       "      <td>0.244007</td>\n",
       "      <td>...</td>\n",
       "      <td>0.287908</td>\n",
       "      <td>0.031360</td>\n",
       "      <td>0.476527</td>\n",
       "      <td>0.097597</td>\n",
       "      <td>-0.003511</td>\n",
       "      <td>0.159669</td>\n",
       "      <td>0.757732</td>\n",
       "      <td>1.000000</td>\n",
       "      <td>0.001798</td>\n",
       "      <td>0.175481</td>\n",
       "    </tr>\n",
       "    <tr>\n",
       "      <th>leading_actor</th>\n",
       "      <td>-0.014543</td>\n",
       "      <td>-0.021852</td>\n",
       "      <td>-0.016239</td>\n",
       "      <td>0.027766</td>\n",
       "      <td>0.000722</td>\n",
       "      <td>0.035581</td>\n",
       "      <td>0.053446</td>\n",
       "      <td>0.021650</td>\n",
       "      <td>-0.035563</td>\n",
       "      <td>-0.003006</td>\n",
       "      <td>...</td>\n",
       "      <td>0.008875</td>\n",
       "      <td>0.007826</td>\n",
       "      <td>-0.007426</td>\n",
       "      <td>-0.005375</td>\n",
       "      <td>-0.008327</td>\n",
       "      <td>0.010315</td>\n",
       "      <td>0.007526</td>\n",
       "      <td>0.001798</td>\n",
       "      <td>1.000000</td>\n",
       "      <td>0.009867</td>\n",
       "    </tr>\n",
       "    <tr>\n",
       "      <th>imdb_tomatoes</th>\n",
       "      <td>0.055572</td>\n",
       "      <td>-0.138079</td>\n",
       "      <td>0.082846</td>\n",
       "      <td>-0.113558</td>\n",
       "      <td>0.112195</td>\n",
       "      <td>-0.015625</td>\n",
       "      <td>-0.077696</td>\n",
       "      <td>0.103110</td>\n",
       "      <td>-0.070624</td>\n",
       "      <td>0.305126</td>\n",
       "      <td>...</td>\n",
       "      <td>0.026509</td>\n",
       "      <td>0.013009</td>\n",
       "      <td>0.046985</td>\n",
       "      <td>0.055060</td>\n",
       "      <td>0.008998</td>\n",
       "      <td>0.022384</td>\n",
       "      <td>0.182566</td>\n",
       "      <td>0.175481</td>\n",
       "      <td>0.009867</td>\n",
       "      <td>1.000000</td>\n",
       "    </tr>\n",
       "  </tbody>\n",
       "</table>\n",
       "<p>23 rows × 23 columns</p>\n",
       "</div>"
      ],
      "text/plain": [
       "                         Year     Rated  Released   Runtime     Genre  \\\n",
       "Year                 1.000000 -0.073127  0.967885  0.127024 -0.054811   \n",
       "Rated               -0.073127  1.000000 -0.080743  0.133127 -0.114427   \n",
       "Released             0.967885 -0.080743  1.000000  0.108200 -0.038336   \n",
       "Runtime              0.127024  0.133127  0.108200  1.000000 -0.175393   \n",
       "Genre               -0.054811 -0.114427 -0.038336 -0.175393  1.000000   \n",
       "Director            -0.001766 -0.000757 -0.005221  0.033592 -0.028997   \n",
       "Writer               0.038963  0.042218  0.035488  0.105888 -0.038458   \n",
       "Language            -0.035750 -0.126549 -0.026982  0.114041 -0.003614   \n",
       "Country              0.017286  0.144576 -0.002100 -0.140993  0.022358   \n",
       "imdbRating          -0.054738 -0.139299 -0.048379  0.104988 -0.022702   \n",
       "imdbVotes           -0.003896  0.214815 -0.035081  0.270662 -0.193008   \n",
       "Production          -0.061832  0.226262 -0.073638  0.096143 -0.076128   \n",
       "tomatoes             0.027552 -0.160875  0.052367 -0.063835  0.085185   \n",
       "oscars               0.000841  0.036219  0.000298  0.077085 -0.001869   \n",
       "primetime_emmys     -0.005730  0.024296 -0.010222  0.018435  0.006058   \n",
       "oscars_nom          -0.009089  0.070668 -0.009358  0.097106 -0.046594   \n",
       "baftas_nom          -0.002458  0.018702  0.004440  0.007721 -0.003817   \n",
       "primetime_emmys_nom -0.017731  0.002218 -0.018783  0.005235  0.002986   \n",
       "golden_globes_nom   -0.023113  0.048356 -0.025440  0.068768 -0.039008   \n",
       "other_awards        -0.134458  0.086053 -0.122245  0.166743 -0.000854   \n",
       "other_nominations   -0.092391  0.131212 -0.090090  0.225350 -0.046479   \n",
       "leading_actor       -0.014543 -0.021852 -0.016239  0.027766  0.000722   \n",
       "imdb_tomatoes        0.055572 -0.138079  0.082846 -0.113558  0.112195   \n",
       "\n",
       "                     Director    Writer  Language   Country  imdbRating  ...  \\\n",
       "Year                -0.001766  0.038963 -0.035750  0.017286   -0.054738  ...   \n",
       "Rated               -0.000757  0.042218 -0.126549  0.144576   -0.139299  ...   \n",
       "Released            -0.005221  0.035488 -0.026982 -0.002100   -0.048379  ...   \n",
       "Runtime              0.033592  0.105888  0.114041 -0.140993    0.104988  ...   \n",
       "Genre               -0.028997 -0.038458 -0.003614  0.022358   -0.022702  ...   \n",
       "Director             1.000000  0.453075 -0.008922 -0.022025   -0.013536  ...   \n",
       "Writer               0.453075  1.000000  0.020662 -0.062402   -0.106605  ...   \n",
       "Language            -0.008922  0.020662  1.000000 -0.195923    0.088502  ...   \n",
       "Country             -0.022025 -0.062402 -0.195923  1.000000   -0.062579  ...   \n",
       "imdbRating          -0.013536 -0.106605  0.088502 -0.062579    1.000000  ...   \n",
       "imdbVotes            0.006360  0.050877 -0.088899  0.114913    0.112936  ...   \n",
       "Production          -0.019441  0.007575 -0.078259  0.059409   -0.035801  ...   \n",
       "tomatoes            -0.015308 -0.106341  0.122400 -0.082245    0.589397  ...   \n",
       "oscars              -0.010305 -0.008325  0.008814  0.016890    0.071327  ...   \n",
       "primetime_emmys     -0.021395 -0.029267 -0.010961  0.021655    0.045635  ...   \n",
       "oscars_nom           0.014950  0.013663 -0.013364  0.030662    0.125373  ...   \n",
       "baftas_nom           0.010728 -0.007691  0.002227  0.043703    0.051950  ...   \n",
       "primetime_emmys_nom  0.007480 -0.009415 -0.014246  0.020635    0.036615  ...   \n",
       "golden_globes_nom    0.019546  0.031226 -0.011468  0.010749    0.046620  ...   \n",
       "other_awards        -0.001476  0.039946  0.150259 -0.101741    0.267944  ...   \n",
       "other_nominations    0.006873  0.050941  0.086898 -0.057795    0.244007  ...   \n",
       "leading_actor        0.035581  0.053446  0.021650 -0.035563   -0.003006  ...   \n",
       "imdb_tomatoes       -0.015625 -0.077696  0.103110 -0.070624    0.305126  ...   \n",
       "\n",
       "                       oscars  primetime_emmys  oscars_nom  baftas_nom  \\\n",
       "Year                 0.000841        -0.005730   -0.009089   -0.002458   \n",
       "Rated                0.036219         0.024296    0.070668    0.018702   \n",
       "Released             0.000298        -0.010222   -0.009358    0.004440   \n",
       "Runtime              0.077085         0.018435    0.097106    0.007721   \n",
       "Genre               -0.001869         0.006058   -0.046594   -0.003817   \n",
       "Director            -0.010305        -0.021395    0.014950    0.010728   \n",
       "Writer              -0.008325        -0.029267    0.013663   -0.007691   \n",
       "Language             0.008814        -0.010961   -0.013364    0.002227   \n",
       "Country              0.016890         0.021655    0.030662    0.043703   \n",
       "imdbRating           0.071327         0.045635    0.125373    0.051950   \n",
       "imdbVotes            0.165378        -0.003317    0.224306    0.015741   \n",
       "Production           0.031842        -0.010193    0.039889    0.009970   \n",
       "tomatoes             0.052205         0.030140    0.090798    0.069915   \n",
       "oscars               1.000000        -0.001779   -0.007203   -0.004589   \n",
       "primetime_emmys     -0.001779         1.000000   -0.003824   -0.002436   \n",
       "oscars_nom          -0.007203        -0.003824    1.000000   -0.009865   \n",
       "baftas_nom          -0.004589        -0.002436   -0.009865    1.000000   \n",
       "primetime_emmys_nom -0.002312        -0.001227   -0.004970   -0.003166   \n",
       "golden_globes_nom   -0.005152        -0.002735   -0.011077   -0.007057   \n",
       "other_awards         0.303247         0.007955    0.337279    0.065241   \n",
       "other_nominations    0.287908         0.031360    0.476527    0.097597   \n",
       "leading_actor        0.008875         0.007826   -0.007426   -0.005375   \n",
       "imdb_tomatoes        0.026509         0.013009    0.046985    0.055060   \n",
       "\n",
       "                     primetime_emmys_nom  golden_globes_nom  other_awards  \\\n",
       "Year                           -0.017731          -0.023113     -0.134458   \n",
       "Rated                           0.002218           0.048356      0.086053   \n",
       "Released                       -0.018783          -0.025440     -0.122245   \n",
       "Runtime                         0.005235           0.068768      0.166743   \n",
       "Genre                           0.002986          -0.039008     -0.000854   \n",
       "Director                        0.007480           0.019546     -0.001476   \n",
       "Writer                         -0.009415           0.031226      0.039946   \n",
       "Language                       -0.014246          -0.011468      0.150259   \n",
       "Country                         0.020635           0.010749     -0.101741   \n",
       "imdbRating                      0.036615           0.046620      0.267944   \n",
       "imdbVotes                      -0.010467           0.124122      0.236193   \n",
       "Production                      0.015708           0.032659      0.035358   \n",
       "tomatoes                        0.022525           0.035903      0.264308   \n",
       "oscars                         -0.002312          -0.005152      0.303247   \n",
       "primetime_emmys                -0.001227          -0.002735      0.007955   \n",
       "oscars_nom                     -0.004970          -0.011077      0.337279   \n",
       "baftas_nom                     -0.003166          -0.007057      0.065241   \n",
       "primetime_emmys_nom             1.000000          -0.003555      0.002272   \n",
       "golden_globes_nom              -0.003555           1.000000      0.090681   \n",
       "other_awards                    0.002272           0.090681      1.000000   \n",
       "other_nominations              -0.003511           0.159669      0.757732   \n",
       "leading_actor                  -0.008327           0.010315      0.007526   \n",
       "imdb_tomatoes                   0.008998           0.022384      0.182566   \n",
       "\n",
       "                     other_nominations  leading_actor  imdb_tomatoes  \n",
       "Year                         -0.092391      -0.014543       0.055572  \n",
       "Rated                         0.131212      -0.021852      -0.138079  \n",
       "Released                     -0.090090      -0.016239       0.082846  \n",
       "Runtime                       0.225350       0.027766      -0.113558  \n",
       "Genre                        -0.046479       0.000722       0.112195  \n",
       "Director                      0.006873       0.035581      -0.015625  \n",
       "Writer                        0.050941       0.053446      -0.077696  \n",
       "Language                      0.086898       0.021650       0.103110  \n",
       "Country                      -0.057795      -0.035563      -0.070624  \n",
       "imdbRating                    0.244007      -0.003006       0.305126  \n",
       "imdbVotes                     0.406385       0.004789      -0.067227  \n",
       "Production                    0.055694      -0.017732      -0.090400  \n",
       "tomatoes                      0.247802       0.006845       0.934608  \n",
       "oscars                        0.287908       0.008875       0.026509  \n",
       "primetime_emmys               0.031360       0.007826       0.013009  \n",
       "oscars_nom                    0.476527      -0.007426       0.046985  \n",
       "baftas_nom                    0.097597      -0.005375       0.055060  \n",
       "primetime_emmys_nom          -0.003511      -0.008327       0.008998  \n",
       "golden_globes_nom             0.159669       0.010315       0.022384  \n",
       "other_awards                  0.757732       0.007526       0.182566  \n",
       "other_nominations             1.000000       0.001798       0.175481  \n",
       "leading_actor                 0.001798       1.000000       0.009867  \n",
       "imdb_tomatoes                 0.175481       0.009867       1.000000  \n",
       "\n",
       "[23 rows x 23 columns]"
      ]
     },
     "execution_count": 63,
     "metadata": {},
     "output_type": "execute_result"
    }
   ],
   "source": [
    "movies_norm.corr(method='pearson')"
   ]
  },
  {
   "cell_type": "code",
   "execution_count": 64,
   "metadata": {
    "colab": {
     "base_uri": "https://localhost:8080/",
     "height": 459
    },
    "colab_type": "code",
    "id": "gdLqlxFie4jx",
    "outputId": "a2d09c9a-c968-4598-e9ac-7cafa621cabb"
   },
   "outputs": [
    {
     "data": {
      "text/plain": [
       "Title                        category\n",
       "Year                            int64\n",
       "Rated                        category\n",
       "Released               datetime64[ns]\n",
       "Runtime                       float64\n",
       "Genre                        category\n",
       "Director                     category\n",
       "Writer                       category\n",
       "Language                     category\n",
       "Country                      category\n",
       "imdbRating                    float64\n",
       "imdbVotes                     float64\n",
       "Production                   category\n",
       "tomatoes                      float64\n",
       "oscars                          int64\n",
       "primetime_emmys                 int64\n",
       "oscars_nom                      int64\n",
       "baftas_nom                      int64\n",
       "primetime_emmys_nom             int64\n",
       "golden_globes_nom               int64\n",
       "other_awards                    int64\n",
       "other_nominations               int64\n",
       "leading_actor                category\n",
       "imdb_tomatoes                 float64\n",
       "runtime_dist                 category\n",
       "dtype: object"
      ]
     },
     "execution_count": 64,
     "metadata": {},
     "output_type": "execute_result"
    }
   ],
   "source": [
    "movies1.dtypes"
   ]
  },
  {
   "cell_type": "code",
   "execution_count": 65,
   "metadata": {
    "colab": {
     "base_uri": "https://localhost:8080/",
     "height": 439
    },
    "colab_type": "code",
    "id": "Gv3T-GXQSKiB",
    "outputId": "285243d3-57c4-4b5e-8e72-823a4f01184a"
   },
   "outputs": [
    {
     "name": "stdout",
     "output_type": "stream",
     "text": [
      "count    6635.000000\n",
      "mean     2014.508063\n",
      "std         2.312369\n",
      "min      2009.000000\n",
      "25%      2013.000000\n",
      "50%      2014.000000\n",
      "75%      2016.000000\n",
      "max      2019.000000\n",
      "Name: Year, dtype: float64\n",
      "2014.0330110259692\n"
     ]
    },
    {
     "data": {
      "image/png": "[encoded data removed]",
      "text/plain": [
       "<Figure size 432x288 with 1 Axes>"
      ]
     },
     "metadata": {
      "needs_background": "light"
     },
     "output_type": "display_data"
    }
   ],
   "source": [
    "print(movies1.Year.describe())\n",
    "movies1.Year.hist()\n",
    "print(movies.Year.mean())"
   ]
  },
  {
   "cell_type": "code",
   "execution_count": 66,
   "metadata": {
    "colab": {
     "base_uri": "https://localhost:8080/",
     "height": 439
    },
    "colab_type": "code",
    "id": "ah4QEhQHTnyk",
    "outputId": "40eb7d95-ee4b-4862-aca4-c5e024a18c3e"
   },
   "outputs": [
    {
     "name": "stdout",
     "output_type": "stream",
     "text": [
      "count    6635.000000\n",
      "mean       98.331424\n",
      "std        14.707018\n",
      "min        50.000000\n",
      "25%        89.000000\n",
      "50%        96.000000\n",
      "75%       107.000000\n",
      "max       142.000000\n",
      "Name: Runtime, dtype: float64\n",
      "84.19296378508226\n"
     ]
    },
    {
     "data": {
      "image/png": "[encoded data removed]",
      "text/plain": [
       "<Figure size 432x288 with 1 Axes>"
      ]
     },
     "metadata": {
      "needs_background": "light"
     },
     "output_type": "display_data"
    }
   ],
   "source": [
    "print(movies1.Runtime.describe())\n",
    "movies1.Runtime.hist()\n",
    "print(movies.Runtime.mean())"
   ]
  },
  {
   "cell_type": "code",
   "execution_count": 67,
   "metadata": {
    "colab": {
     "base_uri": "https://localhost:8080/",
     "height": 439
    },
    "colab_type": "code",
    "id": "75c4tP2mZVHi",
    "outputId": "e4661194-7e26-468c-fb8e-257c6911d56f"
   },
   "outputs": [
    {
     "name": "stdout",
     "output_type": "stream",
     "text": [
      "count    6635.000000\n",
      "mean        6.315072\n",
      "std         1.025865\n",
      "min         1.500000\n",
      "25%         5.700000\n",
      "50%         6.400000\n",
      "75%         7.100000\n",
      "max         9.800000\n",
      "Name: imdbRating, dtype: float64\n",
      "6.284290065152858\n"
     ]
    },
    {
     "data": {
      "image/png": "[encoded data removed]",
      "text/plain": [
       "<Figure size 432x288 with 1 Axes>"
      ]
     },
     "metadata": {
      "needs_background": "light"
     },
     "output_type": "display_data"
    }
   ],
   "source": [
    "print(movies1.imdbRating.describe())\n",
    "movies1.imdbRating.hist()\n",
    "print(movies.imdbRating.mean())"
   ]
  },
  {
   "cell_type": "code",
   "execution_count": 68,
   "metadata": {
    "colab": {
     "base_uri": "https://localhost:8080/",
     "height": 422
    },
    "colab_type": "code",
    "id": "kXYnkjEQZa_8",
    "outputId": "c878e626-5d3f-4411-cff7-9a9d36d3fe0b"
   },
   "outputs": [
    {
     "name": "stdout",
     "output_type": "stream",
     "text": [
      "count      6635.000000\n",
      "mean      14977.454710\n",
      "std       40657.424455\n",
      "min           5.000000\n",
      "25%         395.000000\n",
      "50%        1792.000000\n",
      "75%        8360.500000\n",
      "max      398278.000000\n",
      "Name: imdbVotes, dtype: float64\n"
     ]
    },
    {
     "data": {
      "image/png": "[encoded data removed]",
      "text/plain": [
       "<Figure size 432x288 with 1 Axes>"
      ]
     },
     "metadata": {
      "needs_background": "light"
     },
     "output_type": "display_data"
    }
   ],
   "source": [
    "print(movies1.imdbVotes.describe())\n",
    "movies1.imdbVotes.hist()\n",
    "movies1['imdbVotes_log'] = movies1.imdbVotes.apply(np.log10)"
   ]
  },
  {
   "cell_type": "code",
   "execution_count": 69,
   "metadata": {
    "colab": {
     "base_uri": "https://localhost:8080/",
     "height": 439
    },
    "colab_type": "code",
    "id": "bX7CcovsaTqS",
    "outputId": "0ae183c7-82eb-405b-e262-a2f980dc3bf4"
   },
   "outputs": [
    {
     "name": "stdout",
     "output_type": "stream",
     "text": [
      "count    6635.000000\n",
      "mean        3.260719\n",
      "std         0.969448\n",
      "min         0.698970\n",
      "25%         2.596597\n",
      "50%         3.253338\n",
      "75%         3.922232\n",
      "max         5.600186\n",
      "Name: imdbVotes_log, dtype: float64\n",
      "1.970153844537521\n"
     ]
    },
    {
     "data": {
      "image/png": "[encoded data removed]",
      "text/plain": [
       "<Figure size 432x288 with 1 Axes>"
      ]
     },
     "metadata": {
      "needs_background": "light"
     },
     "output_type": "display_data"
    }
   ],
   "source": [
    "print(movies1.imdbVotes_log.describe())\n",
    "movies1.imdbVotes_log.hist()\n",
    "print(movies.imdbVotes.apply(np.log10).mean())"
   ]
  },
  {
   "cell_type": "code",
   "execution_count": 70,
   "metadata": {
    "colab": {
     "base_uri": "https://localhost:8080/",
     "height": 439
    },
    "colab_type": "code",
    "id": "30eZ5p2mZuF1",
    "outputId": "4efbb0b7-2507-4cb8-ff58-5ee746f3c0a4"
   },
   "outputs": [
    {
     "name": "stdout",
     "output_type": "stream",
     "text": [
      "count    6635.000000\n",
      "mean       63.916805\n",
      "std        28.320164\n",
      "min         0.000000\n",
      "25%        43.000000\n",
      "50%        70.000000\n",
      "75%        88.000000\n",
      "max       100.000000\n",
      "Name: tomatoes, dtype: float64\n"
     ]
    },
    {
     "data": {
      "text/plain": [
       "<matplotlib.axes._subplots.AxesSubplot at 0x1cdcea2be10>"
      ]
     },
     "execution_count": 70,
     "metadata": {},
     "output_type": "execute_result"
    },
    {
     "data": {
      "image/png": "[encoded data removed]",
      "text/plain": [
       "<Figure size 432x288 with 1 Axes>"
      ]
     },
     "metadata": {
      "needs_background": "light"
     },
     "output_type": "display_data"
    }
   ],
   "source": [
    "print(movies1.tomatoes.describe())\n",
    "movies1.tomatoes.hist()"
   ]
  },
  {
   "cell_type": "code",
   "execution_count": 71,
   "metadata": {
    "colab": {
     "base_uri": "https://localhost:8080/",
     "height": 495
    },
    "colab_type": "code",
    "id": "ynm1ur3Wa0Mk",
    "outputId": "f5168582-d8f1-4899-c364-a3eec3a852bb"
   },
   "outputs": [
    {
     "name": "stdout",
     "output_type": "stream",
     "text": [
      "count     6635\n",
      "unique     108\n",
      "top        USA\n",
      "freq      3247\n",
      "Name: Country, dtype: object\n"
     ]
    },
    {
     "data": {
      "text/plain": [
       "<matplotlib.axes._subplots.AxesSubplot at 0x1cdd31cada0>"
      ]
     },
     "execution_count": 71,
     "metadata": {},
     "output_type": "execute_result"
    },
    {
     "data": {
      "image/png": "[encoded data removed]",
      "text/plain": [
       "<Figure size 720x360 with 1 Axes>"
      ]
     },
     "metadata": {
      "needs_background": "light"
     },
     "output_type": "display_data"
    }
   ],
   "source": [
    "# Verificar se a nota do imdb é influenciada pelo país/continente do filme\n",
    "\n",
    "print(movies1.Country.describe())\n",
    "byCountry = movies1.groupby('Country').filter(lambda x : len(x) >= 20)\n",
    "byCountry = byCountry.groupby(['Country'])\n",
    "byCountry['imdbRating'].mean().nlargest(30).plot.bar(rot=75, figsize=(10, 5))"
   ]
  },
  {
   "cell_type": "code",
   "execution_count": 72,
   "metadata": {
    "colab": {
     "base_uri": "https://localhost:8080/",
     "height": 410
    },
    "colab_type": "code",
    "id": "nDaCn4eiwgrb",
    "outputId": "ccc689e2-e52f-48a6-c1cb-97cd99aa7f2e"
   },
   "outputs": [
    {
     "data": {
      "text/plain": [
       "<matplotlib.axes._subplots.AxesSubplot at 0x1cdd1976d68>"
      ]
     },
     "execution_count": 72,
     "metadata": {},
     "output_type": "execute_result"
    },
    {
     "data": {
      "image/png": "[encoded data removed]",
      "text/plain": [
       "<Figure size 720x360 with 1 Axes>"
      ]
     },
     "metadata": {
      "needs_background": "light"
     },
     "output_type": "display_data"
    }
   ],
   "source": [
    "byCountry.tomatoes.mean().nlargest(30).plot.bar(rot=75, figsize=(10, 5)) # tomatoes"
   ]
  },
  {
   "cell_type": "code",
   "execution_count": 73,
   "metadata": {
    "colab": {
     "base_uri": "https://localhost:8080/",
     "height": 434
    },
    "colab_type": "code",
    "id": "eetVmok941JJ",
    "outputId": "29035994-122f-441b-8e9e-84784758044c"
   },
   "outputs": [
    {
     "name": "stdout",
     "output_type": "stream",
     "text": [
      "count     4851\n",
      "unique      14\n",
      "top          R\n",
      "freq      1500\n",
      "Name: Rated, dtype: object\n"
     ]
    },
    {
     "data": {
      "text/plain": [
       "<matplotlib.axes._subplots.AxesSubplot at 0x1cdc9178cf8>"
      ]
     },
     "execution_count": 73,
     "metadata": {},
     "output_type": "execute_result"
    },
    {
     "data": {
      "image/png": "[encoded data removed]",
      "text/plain": [
       "<Figure size 432x288 with 1 Axes>"
      ]
     },
     "metadata": {
      "needs_background": "light"
     },
     "output_type": "display_data"
    }
   ],
   "source": [
    "# Maiores notas do imdb por classificação indicativa\n",
    "\n",
    "print(movies1.Rated.describe())\n",
    "byRate = movies1.groupby('Rated')\n",
    "byRate\n",
    "byRate.imdbRating.mean().nlargest(25).plot.bar(rot=75)"
   ]
  },
  {
   "cell_type": "code",
   "execution_count": 74,
   "metadata": {
    "colab": {
     "base_uri": "https://localhost:8080/",
     "height": 300
    },
    "colab_type": "code",
    "id": "d7PHqeR6C0-C",
    "outputId": "52e011ca-6bd8-491d-fa38-cb6809307fbe"
   },
   "outputs": [
    {
     "data": {
      "text/plain": [
       "<matplotlib.axes._subplots.AxesSubplot at 0x1cdcbe28160>"
      ]
     },
     "execution_count": 74,
     "metadata": {},
     "output_type": "execute_result"
    },
    {
     "data": {
      "image/png": "[encoded data removed]",
      "text/plain": [
       "<Figure size 432x288 with 1 Axes>"
      ]
     },
     "metadata": {
      "needs_background": "light"
     },
     "output_type": "display_data"
    }
   ],
   "source": [
    "# movies1.plot.scatter(x='other_awards', y='tomatoes')\n",
    "movies1['log_imdbVotes'] = movies1.imdbVotes.apply(np.log10)\n",
    "movies1.plot.scatter(x='imdbRating', y='imdbVotes')"
   ]
  },
  {
   "cell_type": "code",
   "execution_count": 75,
   "metadata": {
    "colab": {
     "base_uri": "https://localhost:8080/",
     "height": 539
    },
    "colab_type": "code",
    "id": "ESH1vX73qLy-",
    "outputId": "772d9185-11f7-4c9b-d414-9f1e0a94786b"
   },
   "outputs": [
    {
     "name": "stdout",
     "output_type": "stream",
     "text": [
      "count            6635\n",
      "unique           5131\n",
      "top       Alex Gibney\n",
      "freq               11\n",
      "Name: Director, dtype: object\n"
     ]
    },
    {
     "data": {
      "text/plain": [
       "<matplotlib.axes._subplots.AxesSubplot at 0x1cdc9e6c9e8>"
      ]
     },
     "execution_count": 75,
     "metadata": {},
     "output_type": "execute_result"
    },
    {
     "data": {
      "image/png": "[encoded data removed]",
      "text/plain": [
       "<Figure size 720x360 with 1 Axes>"
      ]
     },
     "metadata": {
      "needs_background": "light"
     },
     "output_type": "display_data"
    }
   ],
   "source": [
    "# \n",
    "\n",
    "print(movies1.Director.describe())\n",
    "byDirector = movies1.groupby('Director').filter(lambda x : len(x) >= 5)\n",
    "byDirector = byDirector.groupby('Director')\n",
    "byDirector.imdbRating.mean().nlargest(25).plot.bar(rot=75, figsize=(10, 5))"
   ]
  },
  {
   "cell_type": "code",
   "execution_count": 76,
   "metadata": {
    "colab": {
     "base_uri": "https://localhost:8080/",
     "height": 286
    },
    "colab_type": "code",
    "id": "WZM-yZACx03i",
    "outputId": "38b01f10-3b39-4087-f73c-fa6be32d497f"
   },
   "outputs": [
    {
     "data": {
      "text/plain": [
       "<matplotlib.axes._subplots.AxesSubplot at 0x1cdcc0724e0>"
      ]
     },
     "execution_count": 76,
     "metadata": {},
     "output_type": "execute_result"
    },
    {
     "data": {
      "image/png": "[encoded data removed]",
      "text/plain": [
       "<Figure size 432x288 with 1 Axes>"
      ]
     },
     "metadata": {
      "needs_background": "light"
     },
     "output_type": "display_data"
    }
   ],
   "source": [
    "data1 = movies1[movies1.Country == 'USA'].imdbRating\n",
    "data2 = movies1[movies1.Country == 'Brazil'].imdbRating\n",
    "\n",
    "sns.boxplot(data=[data1, data2])"
   ]
  },
  {
   "cell_type": "code",
   "execution_count": 77,
   "metadata": {
    "colab": {
     "base_uri": "https://localhost:8080/",
     "height": 286
    },
    "colab_type": "code",
    "id": "0SbdKnfcygQx",
    "outputId": "996fc7f1-646a-418f-900c-f217b00cb81a"
   },
   "outputs": [
    {
     "data": {
      "text/plain": [
       "<matplotlib.axes._subplots.AxesSubplot at 0x1cdcbb76400>"
      ]
     },
     "execution_count": 77,
     "metadata": {},
     "output_type": "execute_result"
    },
    {
     "data": {
      "image/png": "[encoded data removed]",
      "text/plain": [
       "<Figure size 432x288 with 1 Axes>"
      ]
     },
     "metadata": {
      "needs_background": "light"
     },
     "output_type": "display_data"
    }
   ],
   "source": [
    "data1 = movies1[movies1.leading_actor == 'Brad Pitt'].imdbRating\n",
    "data2 = movies1[movies1.leading_actor == 'Irrfan Khan'].imdbRating\n",
    "\n",
    "sns.boxplot(data=[data1, data2])"
   ]
  },
  {
   "cell_type": "code",
   "execution_count": 78,
   "metadata": {
    "colab": {
     "base_uri": "https://localhost:8080/",
     "height": 809
    },
    "colab_type": "code",
    "id": "GPsgjVmOFtKv",
    "outputId": "08ea4a0d-e8ad-4799-c6a1-c8556312f9f0"
   },
   "outputs": [
    {
     "name": "stdout",
     "output_type": "stream",
     "text": [
      "count             6635\n",
      "unique            4938\n",
      "top       Nicolas Cage\n",
      "freq                17\n",
      "Name: leading_actor, dtype: object\n"
     ]
    },
    {
     "data": {
      "text/plain": [
       "<matplotlib.axes._subplots.AxesSubplot at 0x1cdd1935dd8>"
      ]
     },
     "execution_count": 78,
     "metadata": {},
     "output_type": "execute_result"
    },
    {
     "data": {
      "image/png": "[encoded data removed]",
      "text/plain": [
       "<Figure size 1440x720 with 1 Axes>"
      ]
     },
     "metadata": {
      "needs_background": "light"
     },
     "output_type": "display_data"
    }
   ],
   "source": [
    "# \n",
    "\n",
    "print(movies1.leading_actor.describe())\n",
    "by_leading_actor = movies1.groupby('leading_actor').filter(lambda x : len(x) >= 5)\n",
    "by_leading_actor = by_leading_actor.groupby('leading_actor')\n",
    "by_leading_actor.imdbRating.mean().nlargest(50).plot.bar(rot=75, figsize=(20, 10))"
   ]
  },
  {
   "cell_type": "code",
   "execution_count": 79,
   "metadata": {
    "colab": {
     "base_uri": "https://localhost:8080/",
     "height": 497
    },
    "colab_type": "code",
    "id": "NIzC15L3SC9e",
    "outputId": "2a7949bd-4831-47a8-9f7e-ad19bec480c4"
   },
   "outputs": [
    {
     "name": "stdout",
     "output_type": "stream",
     "text": [
      "count      6635\n",
      "unique       20\n",
      "top       Drama\n",
      "freq       1746\n",
      "Name: Genre, dtype: object\n"
     ]
    },
    {
     "data": {
      "text/plain": [
       "<matplotlib.axes._subplots.AxesSubplot at 0x1cdcfe54198>"
      ]
     },
     "execution_count": 79,
     "metadata": {},
     "output_type": "execute_result"
    },
    {
     "data": {
      "image/png": "[encoded data removed]",
      "text/plain": [
       "<Figure size 720x360 with 1 Axes>"
      ]
     },
     "metadata": {
      "needs_background": "light"
     },
     "output_type": "display_data"
    }
   ],
   "source": [
    "print(movies1.Genre.describe())\n",
    "by_genre = movies1.groupby('Genre')\n",
    "by_genre.imdbRating.mean().sort_values(ascending=False).plot.bar(rot=75, figsize=(10, 5))"
   ]
  },
  {
   "cell_type": "code",
   "execution_count": 80,
   "metadata": {
    "colab": {
     "base_uri": "https://localhost:8080/",
     "height": 34
    },
    "colab_type": "code",
    "id": "7fG5rIxlDy4p",
    "outputId": "64ea0958-7918-4e0e-894d-2df1d0d38c22"
   },
   "outputs": [
    {
     "data": {
      "text/plain": [
       "23"
      ]
     },
     "execution_count": 80,
     "metadata": {},
     "output_type": "execute_result"
    }
   ],
   "source": [
    "len(movies1[movies1.oscars > 0])\n"
   ]
  },
  {
   "cell_type": "markdown",
   "metadata": {
    "colab_type": "text",
    "id": "szdeT9ZfPFPk"
   },
   "source": [
    "\n",
    "# Parte 2\n"
   ]
  },
  {
   "cell_type": "markdown",
   "metadata": {
    "colab_type": "text",
    "id": "X6JcAMTAPN-o"
   },
   "source": [
    "## Apesar de o imdbRating ser um atributo contínuo, foi optado por definir o problema em uma classificação binária para prever se um filme terá a nota `>= 7` ou  `< 7`, ou seja, se é um bom filme ou não\n",
    "\n",
    "- Também foi testado anteriormente o modelo usando intervalos `{ (0, 2], (2, 4], (4, 6], (6, 8], (8, 10] }` como classes,  porém as métricas F1-score e accuracy estavam muito ruins, em torno de 50% para alguns classificadores, e com a mudança para decisão binária teve uma melhora na accurácia que subiu para mais de 70% em alguns casos\n",
    "\n",
    "- Dessa forma também é possível ter uma margem de segurança em relação a regressão\n"
   ]
  },
  {
   "cell_type": "markdown",
   "metadata": {
    "colab_type": "text",
    "id": "uPOfBi0bVfNG"
   },
   "source": [
    "### Encodando todos os valores categóricos para os classificadores e mais um pouco de pre-processamento\n",
    "\n",
    "#### One-Hot-Encoding criaria muitas colunas, devido ao alto número de diferentes valores categóricos. Foi usado o LabelEncoder"
   ]
  },
  {
   "cell_type": "code",
   "execution_count": 81,
   "metadata": {
    "colab": {
     "base_uri": "https://localhost:8080/",
     "height": 85
    },
    "colab_type": "code",
    "id": "dfS9O0IbURcK",
    "outputId": "c4393885-a992-4f46-8507-bb259cc35a37"
   },
   "outputs": [
    {
     "name": "stdout",
     "output_type": "stream",
     "text": [
      "(6635, 22)\n"
     ]
    },
    {
     "data": {
      "text/plain": [
       "False    4723\n",
       "True     1912\n",
       "Name: target, dtype: int64"
      ]
     },
     "execution_count": 81,
     "metadata": {},
     "output_type": "execute_result"
    }
   ],
   "source": [
    "from sklearn.preprocessing import LabelEncoder\n",
    "import datetime as dt\n",
    "from sklearn.model_selection import GridSearchCV\n",
    "\n",
    "dataset = movies1.drop(columns=['Title', 'runtime_dist', 'imdbVotes_log', 'log_imdbVotes', 'imdb_tomatoes'])\n",
    "\n",
    "# Os classificadores não leem datetime\n",
    "dataset['Released'] = ((dataset['Released'] - dt.datetime(1970,1,1)).dt.total_seconds() / (60 * 60 * 24)).astype('int') #dias desde 1970-01-01\n",
    "\n",
    "categorical_columns = list(dataset.select_dtypes(['category']).columns)\n",
    "\n",
    "for col in categorical_columns:\n",
    "  dataset[col] = dataset[col].str.upper().astype('category')\n",
    "  if col in ['Rated', 'Writer', 'Production']:\n",
    "    dataset[col] = dataset[col].cat.add_categories(['null'])\n",
    "    dataset[col].fillna('null', inplace=True)\n",
    "\n",
    "  dataset[col] = LabelEncoder().fit_transform(dataset[col])\n",
    "\n",
    "\n",
    "dataset['target'] = dataset.imdbRating.apply(lambda x: x >= 7)\n",
    "dataset.drop(columns=['imdbRating'], inplace=True)\n",
    "\n",
    "print(dataset.shape)\n",
    "dataset.target.value_counts()"
   ]
  },
  {
   "cell_type": "markdown",
   "metadata": {
    "colab_type": "text",
    "id": "ney00MhsREy0"
   },
   "source": [
    "## Setando os conjuntos de treinamento e teste com holdout set\n",
    "### divisão de 75% - 25%"
   ]
  },
  {
   "cell_type": "code",
   "execution_count": 82,
   "metadata": {
    "colab": {
     "base_uri": "https://localhost:8080/",
     "height": 136
    },
    "colab_type": "code",
    "id": "2HePdg5KQX5I",
    "outputId": "9f8e07b9-ddb7-4a9c-a83f-bb3bdccb8eb0"
   },
   "outputs": [
    {
     "name": "stdout",
     "output_type": "stream",
     "text": [
      "(4976,) (1659,)\n",
      "False    3529\n",
      "True     1447\n",
      "Name: target, dtype: int64 \n",
      " False    1194\n",
      "True      465\n",
      "Name: target, dtype: int64\n"
     ]
    }
   ],
   "source": [
    "from sklearn.model_selection import train_test_split\n",
    "target_names=['RUIM', 'BOM']\n",
    "\n",
    "X_train, X_test, y_train, y_test = train_test_split(dataset.drop(columns=['target']), dataset['target'], test_size=.25, random_state=42)\n",
    "print(y_train.shape, y_test.shape)\n",
    "print(y_train.value_counts(), '\\n', y_test.value_counts())"
   ]
  },
  {
   "cell_type": "markdown",
   "metadata": {
    "colab_type": "text",
    "id": "PmmLb7yLIUrq"
   },
   "source": [
    "## sklearn imports"
   ]
  },
  {
   "cell_type": "code",
   "execution_count": 83,
   "metadata": {
    "colab": {},
    "colab_type": "code",
    "id": "lW3p602KIcew"
   },
   "outputs": [],
   "source": [
    "from sklearn.neighbors import KNeighborsClassifier\n",
    "from sklearn.ensemble import RandomForestClassifier\n",
    "from sklearn.neural_network import MLPClassifier\n",
    "from sklearn.naive_bayes import ComplementNB\n",
    "from sklearn.metrics import confusion_matrix\n",
    "from sklearn.metrics import classification_report"
   ]
  },
  {
   "cell_type": "markdown",
   "metadata": {
    "colab_type": "text",
    "id": "W4MJeTIPi7wn"
   },
   "source": [
    "## K-NN\n",
    "\n",
    "### Aqui são variados os valores do hiperparâmetro K no intervalo [1, 30] e se o algoritmo vai usar peso ou não entre os vizinhos, sendo 'uniform' para pesos iguais para todos os vizinhos e 'distance' para peso inversamente proporcional a distância dos vizinhos"
   ]
  },
  {
   "cell_type": "code",
   "execution_count": 84,
   "metadata": {
    "colab": {},
    "colab_type": "code",
    "id": "-3QQEmbsbCr4"
   },
   "outputs": [],
   "source": [
    "reports = []\n",
    "\n",
    "c_matrices = dict()\n",
    "\n",
    "for K in range(1, 30):\n",
    "  for weights in ['uniform', 'distance']:\n",
    "    knn = KNeighborsClassifier(n_neighbors=K, weights=weights, n_jobs=-1)\n",
    "\n",
    "    knn.fit(X_train, y_train)\n",
    "\n",
    "    y_pred = knn.predict(X_test)\n",
    "    \n",
    "    c_matrices[str(K) + '_' + weights] = confusion_matrix(y_test, y_pred)\n",
    "\n",
    "    clss_report = classification_report(y_test, y_pred, target_names=target_names, output_dict=True)\n",
    "#     Para informações por classes descomentar essas linhas\n",
    "#     for target in target_names:\n",
    "#       report[target + '_precision'] = clss_report[target]['precision']\n",
    "#       report[target + '_recall'] = clss_report[target]['recall']\n",
    "#       report[target + '_f1-score'] = clss_report[target]['f1-score']\n",
    "#       report[target + '_support'] = clss_report[target]['support']\n",
    "    report = clss_report['weighted avg']\n",
    "    report['accuracy'] = clss_report['accuracy']\n",
    "    report['k'] = K;\n",
    "    report['weights'] = weights\n",
    "    reports.append(report)\n",
    "reports = pd.DataFrame(reports).drop(columns=['support'])"
   ]
  },
  {
   "cell_type": "code",
   "execution_count": 85,
   "metadata": {
    "colab": {
     "base_uri": "https://localhost:8080/",
     "height": 269
    },
    "colab_type": "code",
    "id": "E7pQzCgfw7TT",
    "outputId": "071458a5-a17f-4cba-bb54-ea991de9d65a"
   },
   "outputs": [
    {
     "data": {
      "image/png": "[encoded data removed]",
      "text/plain": [
       "<Figure size 432x288 with 1 Axes>"
      ]
     },
     "metadata": {
      "needs_background": "light"
     },
     "output_type": "display_data"
    }
   ],
   "source": [
    "uniform=reports.weights == 'uniform'\n",
    "distance=reports.weights == 'distance'\n",
    "plt.plot(reports[uniform]['k'], reports[uniform]['f1-score'])\n",
    "plt.plot(reports[distance]['k'], reports[distance]['f1-score'])\n",
    "plt.plot(reports[uniform]['k'], reports[uniform]['accuracy'])\n",
    "plt.plot(reports[distance]['k'], reports[distance]['accuracy'])\n",
    "plt.legend(['f1 (no weights)', 'f1 (weighted)', 'accuracy (no weights)', 'accuracy (weighted)'], loc='center right')\n",
    "plt.show()"
   ]
  },
  {
   "cell_type": "markdown",
   "metadata": {
    "colab_type": "text",
    "id": "ePZpVMgMRZ7b"
   },
   "source": [
    "#### Aqui pode ser observado que o para valores de K mais baixos se obtem um f1-score melhor mas não se tem uma precisão e recall muito bons e que o K-NN com pesos tem mais êxito"
   ]
  },
  {
   "cell_type": "code",
   "execution_count": 86,
   "metadata": {
    "colab": {
     "base_uri": "https://localhost:8080/",
     "height": 359
    },
    "colab_type": "code",
    "id": "tIBjEF6cOTEk",
    "outputId": "bc96ca6c-c888-40b2-9a2c-a007cad4ba5d"
   },
   "outputs": [
    {
     "data": {
      "text/html": [
       "<div>\n",
       "<style scoped>\n",
       "    .dataframe tbody tr th:only-of-type {\n",
       "        vertical-align: middle;\n",
       "    }\n",
       "\n",
       "    .dataframe tbody tr th {\n",
       "        vertical-align: top;\n",
       "    }\n",
       "\n",
       "    .dataframe thead th {\n",
       "        text-align: right;\n",
       "    }\n",
       "</style>\n",
       "<table border=\"1\" class=\"dataframe\">\n",
       "  <thead>\n",
       "    <tr style=\"text-align: right;\">\n",
       "      <th></th>\n",
       "      <th>accuracy</th>\n",
       "      <th>f1-score</th>\n",
       "      <th>k</th>\n",
       "      <th>precision</th>\n",
       "      <th>recall</th>\n",
       "      <th>weights</th>\n",
       "    </tr>\n",
       "  </thead>\n",
       "  <tbody>\n",
       "    <tr>\n",
       "      <th>13</th>\n",
       "      <td>0.707052</td>\n",
       "      <td>0.669951</td>\n",
       "      <td>7</td>\n",
       "      <td>0.664952</td>\n",
       "      <td>0.707052</td>\n",
       "      <td>distance</td>\n",
       "    </tr>\n",
       "    <tr>\n",
       "      <th>21</th>\n",
       "      <td>0.721519</td>\n",
       "      <td>0.669053</td>\n",
       "      <td>11</td>\n",
       "      <td>0.678254</td>\n",
       "      <td>0.721519</td>\n",
       "      <td>distance</td>\n",
       "    </tr>\n",
       "    <tr>\n",
       "      <th>20</th>\n",
       "      <td>0.720916</td>\n",
       "      <td>0.667470</td>\n",
       "      <td>11</td>\n",
       "      <td>0.676816</td>\n",
       "      <td>0.720916</td>\n",
       "      <td>uniform</td>\n",
       "    </tr>\n",
       "    <tr>\n",
       "      <th>16</th>\n",
       "      <td>0.711875</td>\n",
       "      <td>0.666530</td>\n",
       "      <td>9</td>\n",
       "      <td>0.665977</td>\n",
       "      <td>0.711875</td>\n",
       "      <td>uniform</td>\n",
       "    </tr>\n",
       "    <tr>\n",
       "      <th>25</th>\n",
       "      <td>0.725136</td>\n",
       "      <td>0.666234</td>\n",
       "      <td>13</td>\n",
       "      <td>0.683604</td>\n",
       "      <td>0.725136</td>\n",
       "      <td>distance</td>\n",
       "    </tr>\n",
       "    <tr>\n",
       "      <th>12</th>\n",
       "      <td>0.707655</td>\n",
       "      <td>0.666039</td>\n",
       "      <td>7</td>\n",
       "      <td>0.662360</td>\n",
       "      <td>0.707655</td>\n",
       "      <td>uniform</td>\n",
       "    </tr>\n",
       "    <tr>\n",
       "      <th>17</th>\n",
       "      <td>0.709464</td>\n",
       "      <td>0.664268</td>\n",
       "      <td>9</td>\n",
       "      <td>0.662429</td>\n",
       "      <td>0.709464</td>\n",
       "      <td>distance</td>\n",
       "    </tr>\n",
       "    <tr>\n",
       "      <th>19</th>\n",
       "      <td>0.711875</td>\n",
       "      <td>0.663305</td>\n",
       "      <td>10</td>\n",
       "      <td>0.663914</td>\n",
       "      <td>0.711875</td>\n",
       "      <td>distance</td>\n",
       "    </tr>\n",
       "    <tr>\n",
       "      <th>15</th>\n",
       "      <td>0.701025</td>\n",
       "      <td>0.662681</td>\n",
       "      <td>8</td>\n",
       "      <td>0.655851</td>\n",
       "      <td>0.701025</td>\n",
       "      <td>distance</td>\n",
       "    </tr>\n",
       "    <tr>\n",
       "      <th>23</th>\n",
       "      <td>0.717300</td>\n",
       "      <td>0.661974</td>\n",
       "      <td>12</td>\n",
       "      <td>0.669434</td>\n",
       "      <td>0.717300</td>\n",
       "      <td>distance</td>\n",
       "    </tr>\n",
       "  </tbody>\n",
       "</table>\n",
       "</div>"
      ],
      "text/plain": [
       "    accuracy  f1-score   k  precision    recall   weights\n",
       "13  0.707052  0.669951   7   0.664952  0.707052  distance\n",
       "21  0.721519  0.669053  11   0.678254  0.721519  distance\n",
       "20  0.720916  0.667470  11   0.676816  0.720916   uniform\n",
       "16  0.711875  0.666530   9   0.665977  0.711875   uniform\n",
       "25  0.725136  0.666234  13   0.683604  0.725136  distance\n",
       "12  0.707655  0.666039   7   0.662360  0.707655   uniform\n",
       "17  0.709464  0.664268   9   0.662429  0.709464  distance\n",
       "19  0.711875  0.663305  10   0.663914  0.711875  distance\n",
       "15  0.701025  0.662681   8   0.655851  0.701025  distance\n",
       "23  0.717300  0.661974  12   0.669434  0.717300  distance"
      ]
     },
     "execution_count": 86,
     "metadata": {},
     "output_type": "execute_result"
    }
   ],
   "source": [
    "f1_score_knn = reports.sort_values(by=['f1-score'], ascending=False).iloc[:10, :]\n",
    "f1_score_knn"
   ]
  },
  {
   "cell_type": "code",
   "execution_count": 87,
   "metadata": {
    "colab": {
     "base_uri": "https://localhost:8080/",
     "height": 286
    },
    "colab_type": "code",
    "id": "R1qrqkUrV4k_",
    "outputId": "c71e6a07-dbdf-4b07-d79b-455d02b3686b"
   },
   "outputs": [
    {
     "data": {
      "text/plain": [
       "<matplotlib.axes._subplots.AxesSubplot at 0x1cdd159ee48>"
      ]
     },
     "execution_count": 87,
     "metadata": {},
     "output_type": "execute_result"
    },
    {
     "data": {
      "image/png": "[encoded data removed]",
      "text/plain": [
       "<Figure size 432x288 with 2 Axes>"
      ]
     },
     "metadata": {
      "needs_background": "light"
     },
     "output_type": "display_data"
    }
   ],
   "source": [
    "c_m = str(f1_score_knn['k'].iloc[0]) + '_' + f1_score_knn['weights'].iloc[0]\n",
    "sns.heatmap(c_matrices[c_m], xticklabels=target_names, yticklabels=target_names, annot=True, cmap=\"Blues\", fmt=\"d\")"
   ]
  },
  {
   "cell_type": "markdown",
   "metadata": {
    "colab_type": "text",
    "id": "H89TtFs0UTBs"
   },
   "source": [
    "#### Mas a acurácia é melhor com valores de K mais altos e os pesos não influenciam tanto na acurácia"
   ]
  },
  {
   "cell_type": "code",
   "execution_count": 88,
   "metadata": {
    "colab": {
     "base_uri": "https://localhost:8080/",
     "height": 359
    },
    "colab_type": "code",
    "id": "Ab_mGAuwT_4a",
    "outputId": "9b4b07d8-b208-4b1d-92fa-dab84140f28a"
   },
   "outputs": [
    {
     "data": {
      "text/html": [
       "<div>\n",
       "<style scoped>\n",
       "    .dataframe tbody tr th:only-of-type {\n",
       "        vertical-align: middle;\n",
       "    }\n",
       "\n",
       "    .dataframe tbody tr th {\n",
       "        vertical-align: top;\n",
       "    }\n",
       "\n",
       "    .dataframe thead th {\n",
       "        text-align: right;\n",
       "    }\n",
       "</style>\n",
       "<table border=\"1\" class=\"dataframe\">\n",
       "  <thead>\n",
       "    <tr style=\"text-align: right;\">\n",
       "      <th></th>\n",
       "      <th>accuracy</th>\n",
       "      <th>f1-score</th>\n",
       "      <th>k</th>\n",
       "      <th>precision</th>\n",
       "      <th>recall</th>\n",
       "      <th>weights</th>\n",
       "    </tr>\n",
       "  </thead>\n",
       "  <tbody>\n",
       "    <tr>\n",
       "      <th>57</th>\n",
       "      <td>0.725738</td>\n",
       "      <td>0.644759</td>\n",
       "      <td>29</td>\n",
       "      <td>0.687034</td>\n",
       "      <td>0.725738</td>\n",
       "      <td>distance</td>\n",
       "    </tr>\n",
       "    <tr>\n",
       "      <th>48</th>\n",
       "      <td>0.725738</td>\n",
       "      <td>0.643956</td>\n",
       "      <td>25</td>\n",
       "      <td>0.687379</td>\n",
       "      <td>0.725738</td>\n",
       "      <td>uniform</td>\n",
       "    </tr>\n",
       "    <tr>\n",
       "      <th>56</th>\n",
       "      <td>0.725136</td>\n",
       "      <td>0.641131</td>\n",
       "      <td>29</td>\n",
       "      <td>0.686013</td>\n",
       "      <td>0.725136</td>\n",
       "      <td>uniform</td>\n",
       "    </tr>\n",
       "    <tr>\n",
       "      <th>25</th>\n",
       "      <td>0.725136</td>\n",
       "      <td>0.666234</td>\n",
       "      <td>13</td>\n",
       "      <td>0.683604</td>\n",
       "      <td>0.725136</td>\n",
       "      <td>distance</td>\n",
       "    </tr>\n",
       "    <tr>\n",
       "      <th>53</th>\n",
       "      <td>0.724533</td>\n",
       "      <td>0.644791</td>\n",
       "      <td>27</td>\n",
       "      <td>0.682291</td>\n",
       "      <td>0.724533</td>\n",
       "      <td>distance</td>\n",
       "    </tr>\n",
       "    <tr>\n",
       "      <th>46</th>\n",
       "      <td>0.723930</td>\n",
       "      <td>0.637037</td>\n",
       "      <td>24</td>\n",
       "      <td>0.682161</td>\n",
       "      <td>0.723930</td>\n",
       "      <td>uniform</td>\n",
       "    </tr>\n",
       "    <tr>\n",
       "      <th>55</th>\n",
       "      <td>0.723930</td>\n",
       "      <td>0.643617</td>\n",
       "      <td>28</td>\n",
       "      <td>0.680286</td>\n",
       "      <td>0.723930</td>\n",
       "      <td>distance</td>\n",
       "    </tr>\n",
       "    <tr>\n",
       "      <th>49</th>\n",
       "      <td>0.723327</td>\n",
       "      <td>0.645587</td>\n",
       "      <td>25</td>\n",
       "      <td>0.677974</td>\n",
       "      <td>0.723327</td>\n",
       "      <td>distance</td>\n",
       "    </tr>\n",
       "    <tr>\n",
       "      <th>43</th>\n",
       "      <td>0.723327</td>\n",
       "      <td>0.650117</td>\n",
       "      <td>22</td>\n",
       "      <td>0.677951</td>\n",
       "      <td>0.723327</td>\n",
       "      <td>distance</td>\n",
       "    </tr>\n",
       "    <tr>\n",
       "      <th>54</th>\n",
       "      <td>0.723327</td>\n",
       "      <td>0.634958</td>\n",
       "      <td>28</td>\n",
       "      <td>0.680015</td>\n",
       "      <td>0.723327</td>\n",
       "      <td>uniform</td>\n",
       "    </tr>\n",
       "  </tbody>\n",
       "</table>\n",
       "</div>"
      ],
      "text/plain": [
       "    accuracy  f1-score   k  precision    recall   weights\n",
       "57  0.725738  0.644759  29   0.687034  0.725738  distance\n",
       "48  0.725738  0.643956  25   0.687379  0.725738   uniform\n",
       "56  0.725136  0.641131  29   0.686013  0.725136   uniform\n",
       "25  0.725136  0.666234  13   0.683604  0.725136  distance\n",
       "53  0.724533  0.644791  27   0.682291  0.724533  distance\n",
       "46  0.723930  0.637037  24   0.682161  0.723930   uniform\n",
       "55  0.723930  0.643617  28   0.680286  0.723930  distance\n",
       "49  0.723327  0.645587  25   0.677974  0.723327  distance\n",
       "43  0.723327  0.650117  22   0.677951  0.723327  distance\n",
       "54  0.723327  0.634958  28   0.680015  0.723327   uniform"
      ]
     },
     "execution_count": 88,
     "metadata": {},
     "output_type": "execute_result"
    }
   ],
   "source": [
    "acc_knn = reports.sort_values(by=['accuracy'], ascending=False).iloc[:10, :]\n",
    "acc_knn"
   ]
  },
  {
   "cell_type": "code",
   "execution_count": 89,
   "metadata": {
    "colab": {
     "base_uri": "https://localhost:8080/",
     "height": 286
    },
    "colab_type": "code",
    "id": "svzgUeITY3Uv",
    "outputId": "d0d819d6-782f-401d-e5d4-c3ae37e8ab72"
   },
   "outputs": [
    {
     "data": {
      "text/plain": [
       "<matplotlib.axes._subplots.AxesSubplot at 0x1cdd159e6d8>"
      ]
     },
     "execution_count": 89,
     "metadata": {},
     "output_type": "execute_result"
    },
    {
     "data": {
      "image/png": "[encoded data removed]",
      "text/plain": [
       "<Figure size 432x288 with 2 Axes>"
      ]
     },
     "metadata": {
      "needs_background": "light"
     },
     "output_type": "display_data"
    }
   ],
   "source": [
    "c_m = str(acc_knn['k'].iloc[0]) + '_' + acc_knn['weights'].iloc[0]\n",
    "sns.heatmap(c_matrices[c_m], xticklabels=target_names, yticklabels=target_names, annot=True, cmap='Blues', fmt=\"d\")"
   ]
  },
  {
   "cell_type": "markdown",
   "metadata": {
    "colab_type": "text",
    "id": "sL4M5FHvVIMe"
   },
   "source": [
    "## Random Forest\n",
    "\n",
    "### O número de árvores na random forest é calculado para o intervalo [50, 1000] com step de 50"
   ]
  },
  {
   "cell_type": "code",
   "execution_count": 90,
   "metadata": {
    "colab": {},
    "colab_type": "code",
    "id": "2GMwa7xophFh"
   },
   "outputs": [],
   "source": [
    "n_trees = range(50, 1050, 50)\n",
    "\n",
    "reports = []\n",
    "\n",
    "c_matrices = dict()\n",
    "\n",
    "for n_tree in n_trees:\n",
    "  random_forest = RandomForestClassifier(n_estimators=n_tree, class_weight='balanced', random_state=42, n_jobs=-1)\n",
    "\n",
    "  random_forest.fit(X_train, y_train)\n",
    "  y_pred = random_forest.predict(X_test)\n",
    "    \n",
    "  c_matrices[n_tree] = confusion_matrix(y_test, y_pred)\n",
    "\n",
    "  clss_report = classification_report(y_test, y_pred, target_names=target_names, output_dict=True)\n",
    "#   Para informações por classes descomentar essas linhas\n",
    "#   for target in target_names:\n",
    "#     report[target + '_precision'] = clss_report[target]['precision']\n",
    "#     report[target + '_recall'] = clss_report[target]['recall']\n",
    "#     report[target + '_f1-score'] = clss_report[target]['f1-score']\n",
    "#     report[target + '_support'] = clss_report[target]['support']\n",
    "  report = clss_report['weighted avg']\n",
    "  report['accuracy'] = clss_report['accuracy']\n",
    "  report['n_trees'] = n_tree\n",
    "  reports.append(report)\n",
    "reports = pd.DataFrame(reports).drop(columns=['support'])"
   ]
  },
  {
   "cell_type": "code",
   "execution_count": 91,
   "metadata": {
    "colab": {
     "base_uri": "https://localhost:8080/",
     "height": 269
    },
    "colab_type": "code",
    "id": "2LLo1POwuiJA",
    "outputId": "8a5407e3-ecc4-40ed-b97c-1867f5e9f2cd"
   },
   "outputs": [
    {
     "data": {
      "image/png": "[encoded data removed]",
      "text/plain": [
       "<Figure size 432x288 with 1 Axes>"
      ]
     },
     "metadata": {
      "needs_background": "light"
     },
     "output_type": "display_data"
    }
   ],
   "source": [
    "plt.plot(reports['n_trees'], reports['f1-score'])\n",
    "plt.plot(reports['n_trees'], reports['accuracy'])\n",
    "plt.legend(['f1', 'accuracy'], loc='lower right')\n",
    "plt.show()"
   ]
  },
  {
   "cell_type": "markdown",
   "metadata": {
    "colab_type": "text",
    "id": "gT3pbbIN7lZN"
   },
   "source": [
    "#### É possível ver que a ordem de acordo com o f1-score e acurácia permanece quase a mesma coisa com acurácia, precision, recall e f1-score ultrapassando os 81%"
   ]
  },
  {
   "cell_type": "code",
   "execution_count": 92,
   "metadata": {
    "colab": {
     "base_uri": "https://localhost:8080/",
     "height": 359
    },
    "colab_type": "code",
    "id": "ELjsliZW5z7q",
    "outputId": "a9f1691d-7b16-4ce2-8443-5ef602fc2da2"
   },
   "outputs": [
    {
     "data": {
      "text/html": [
       "<div>\n",
       "<style scoped>\n",
       "    .dataframe tbody tr th:only-of-type {\n",
       "        vertical-align: middle;\n",
       "    }\n",
       "\n",
       "    .dataframe tbody tr th {\n",
       "        vertical-align: top;\n",
       "    }\n",
       "\n",
       "    .dataframe thead th {\n",
       "        text-align: right;\n",
       "    }\n",
       "</style>\n",
       "<table border=\"1\" class=\"dataframe\">\n",
       "  <thead>\n",
       "    <tr style=\"text-align: right;\">\n",
       "      <th></th>\n",
       "      <th>accuracy</th>\n",
       "      <th>f1-score</th>\n",
       "      <th>n_trees</th>\n",
       "      <th>precision</th>\n",
       "      <th>recall</th>\n",
       "    </tr>\n",
       "  </thead>\n",
       "  <tbody>\n",
       "    <tr>\n",
       "      <th>13</th>\n",
       "      <td>0.838457</td>\n",
       "      <td>0.831340</td>\n",
       "      <td>700</td>\n",
       "      <td>0.833269</td>\n",
       "      <td>0.838457</td>\n",
       "    </tr>\n",
       "    <tr>\n",
       "      <th>6</th>\n",
       "      <td>0.838457</td>\n",
       "      <td>0.830853</td>\n",
       "      <td>350</td>\n",
       "      <td>0.833417</td>\n",
       "      <td>0.838457</td>\n",
       "    </tr>\n",
       "    <tr>\n",
       "      <th>12</th>\n",
       "      <td>0.837251</td>\n",
       "      <td>0.829919</td>\n",
       "      <td>650</td>\n",
       "      <td>0.831970</td>\n",
       "      <td>0.837251</td>\n",
       "    </tr>\n",
       "    <tr>\n",
       "      <th>17</th>\n",
       "      <td>0.837251</td>\n",
       "      <td>0.829755</td>\n",
       "      <td>900</td>\n",
       "      <td>0.832016</td>\n",
       "      <td>0.837251</td>\n",
       "    </tr>\n",
       "    <tr>\n",
       "      <th>11</th>\n",
       "      <td>0.837251</td>\n",
       "      <td>0.829591</td>\n",
       "      <td>600</td>\n",
       "      <td>0.832068</td>\n",
       "      <td>0.837251</td>\n",
       "    </tr>\n",
       "    <tr>\n",
       "      <th>9</th>\n",
       "      <td>0.836649</td>\n",
       "      <td>0.828876</td>\n",
       "      <td>500</td>\n",
       "      <td>0.831421</td>\n",
       "      <td>0.836649</td>\n",
       "    </tr>\n",
       "    <tr>\n",
       "      <th>15</th>\n",
       "      <td>0.836046</td>\n",
       "      <td>0.828659</td>\n",
       "      <td>800</td>\n",
       "      <td>0.830629</td>\n",
       "      <td>0.836046</td>\n",
       "    </tr>\n",
       "    <tr>\n",
       "      <th>14</th>\n",
       "      <td>0.836046</td>\n",
       "      <td>0.828659</td>\n",
       "      <td>750</td>\n",
       "      <td>0.830629</td>\n",
       "      <td>0.836046</td>\n",
       "    </tr>\n",
       "    <tr>\n",
       "      <th>16</th>\n",
       "      <td>0.836046</td>\n",
       "      <td>0.828494</td>\n",
       "      <td>850</td>\n",
       "      <td>0.830671</td>\n",
       "      <td>0.836046</td>\n",
       "    </tr>\n",
       "    <tr>\n",
       "      <th>10</th>\n",
       "      <td>0.836046</td>\n",
       "      <td>0.828161</td>\n",
       "      <td>550</td>\n",
       "      <td>0.830773</td>\n",
       "      <td>0.836046</td>\n",
       "    </tr>\n",
       "  </tbody>\n",
       "</table>\n",
       "</div>"
      ],
      "text/plain": [
       "    accuracy  f1-score  n_trees  precision    recall\n",
       "13  0.838457  0.831340      700   0.833269  0.838457\n",
       "6   0.838457  0.830853      350   0.833417  0.838457\n",
       "12  0.837251  0.829919      650   0.831970  0.837251\n",
       "17  0.837251  0.829755      900   0.832016  0.837251\n",
       "11  0.837251  0.829591      600   0.832068  0.837251\n",
       "9   0.836649  0.828876      500   0.831421  0.836649\n",
       "15  0.836046  0.828659      800   0.830629  0.836046\n",
       "14  0.836046  0.828659      750   0.830629  0.836046\n",
       "16  0.836046  0.828494      850   0.830671  0.836046\n",
       "10  0.836046  0.828161      550   0.830773  0.836046"
      ]
     },
     "execution_count": 92,
     "metadata": {},
     "output_type": "execute_result"
    }
   ],
   "source": [
    "f1_score_rf = reports.sort_values(by=['f1-score'], ascending=False).iloc[:10, :]\n",
    "f1_score_rf"
   ]
  },
  {
   "cell_type": "code",
   "execution_count": 93,
   "metadata": {
    "colab": {
     "base_uri": "https://localhost:8080/",
     "height": 286
    },
    "colab_type": "code",
    "id": "DDvkHEY7541T",
    "outputId": "f8b05387-9ceb-4c5c-dec7-969b81dbb92b"
   },
   "outputs": [
    {
     "data": {
      "text/plain": [
       "<matplotlib.axes._subplots.AxesSubplot at 0x1cdcf01b7f0>"
      ]
     },
     "execution_count": 93,
     "metadata": {},
     "output_type": "execute_result"
    },
    {
     "data": {
      "image/png": "[encoded data removed]",
      "text/plain": [
       "<Figure size 432x288 with 2 Axes>"
      ]
     },
     "metadata": {
      "needs_background": "light"
     },
     "output_type": "display_data"
    }
   ],
   "source": [
    "c_m = f1_score_rf['n_trees'].iloc[0]\n",
    "sns.heatmap(c_matrices[c_m], xticklabels=target_names, yticklabels=target_names, annot=True, cmap='Blues', fmt=\"d\")"
   ]
  },
  {
   "cell_type": "code",
   "execution_count": 94,
   "metadata": {
    "colab": {
     "base_uri": "https://localhost:8080/",
     "height": 359
    },
    "colab_type": "code",
    "id": "8jV6Q05F6522",
    "outputId": "127a2f1a-d346-4449-c65c-8ca6b3d87848"
   },
   "outputs": [
    {
     "data": {
      "text/html": [
       "<div>\n",
       "<style scoped>\n",
       "    .dataframe tbody tr th:only-of-type {\n",
       "        vertical-align: middle;\n",
       "    }\n",
       "\n",
       "    .dataframe tbody tr th {\n",
       "        vertical-align: top;\n",
       "    }\n",
       "\n",
       "    .dataframe thead th {\n",
       "        text-align: right;\n",
       "    }\n",
       "</style>\n",
       "<table border=\"1\" class=\"dataframe\">\n",
       "  <thead>\n",
       "    <tr style=\"text-align: right;\">\n",
       "      <th></th>\n",
       "      <th>accuracy</th>\n",
       "      <th>f1-score</th>\n",
       "      <th>n_trees</th>\n",
       "      <th>precision</th>\n",
       "      <th>recall</th>\n",
       "    </tr>\n",
       "  </thead>\n",
       "  <tbody>\n",
       "    <tr>\n",
       "      <th>13</th>\n",
       "      <td>0.838457</td>\n",
       "      <td>0.831340</td>\n",
       "      <td>700</td>\n",
       "      <td>0.833269</td>\n",
       "      <td>0.838457</td>\n",
       "    </tr>\n",
       "    <tr>\n",
       "      <th>6</th>\n",
       "      <td>0.838457</td>\n",
       "      <td>0.830853</td>\n",
       "      <td>350</td>\n",
       "      <td>0.833417</td>\n",
       "      <td>0.838457</td>\n",
       "    </tr>\n",
       "    <tr>\n",
       "      <th>17</th>\n",
       "      <td>0.837251</td>\n",
       "      <td>0.829755</td>\n",
       "      <td>900</td>\n",
       "      <td>0.832016</td>\n",
       "      <td>0.837251</td>\n",
       "    </tr>\n",
       "    <tr>\n",
       "      <th>11</th>\n",
       "      <td>0.837251</td>\n",
       "      <td>0.829591</td>\n",
       "      <td>600</td>\n",
       "      <td>0.832068</td>\n",
       "      <td>0.837251</td>\n",
       "    </tr>\n",
       "    <tr>\n",
       "      <th>12</th>\n",
       "      <td>0.837251</td>\n",
       "      <td>0.829919</td>\n",
       "      <td>650</td>\n",
       "      <td>0.831970</td>\n",
       "      <td>0.837251</td>\n",
       "    </tr>\n",
       "    <tr>\n",
       "      <th>9</th>\n",
       "      <td>0.836649</td>\n",
       "      <td>0.828876</td>\n",
       "      <td>500</td>\n",
       "      <td>0.831421</td>\n",
       "      <td>0.836649</td>\n",
       "    </tr>\n",
       "    <tr>\n",
       "      <th>10</th>\n",
       "      <td>0.836046</td>\n",
       "      <td>0.828161</td>\n",
       "      <td>550</td>\n",
       "      <td>0.830773</td>\n",
       "      <td>0.836046</td>\n",
       "    </tr>\n",
       "    <tr>\n",
       "      <th>16</th>\n",
       "      <td>0.836046</td>\n",
       "      <td>0.828494</td>\n",
       "      <td>850</td>\n",
       "      <td>0.830671</td>\n",
       "      <td>0.836046</td>\n",
       "    </tr>\n",
       "    <tr>\n",
       "      <th>15</th>\n",
       "      <td>0.836046</td>\n",
       "      <td>0.828659</td>\n",
       "      <td>800</td>\n",
       "      <td>0.830629</td>\n",
       "      <td>0.836046</td>\n",
       "    </tr>\n",
       "    <tr>\n",
       "      <th>8</th>\n",
       "      <td>0.836046</td>\n",
       "      <td>0.828161</td>\n",
       "      <td>450</td>\n",
       "      <td>0.830773</td>\n",
       "      <td>0.836046</td>\n",
       "    </tr>\n",
       "  </tbody>\n",
       "</table>\n",
       "</div>"
      ],
      "text/plain": [
       "    accuracy  f1-score  n_trees  precision    recall\n",
       "13  0.838457  0.831340      700   0.833269  0.838457\n",
       "6   0.838457  0.830853      350   0.833417  0.838457\n",
       "17  0.837251  0.829755      900   0.832016  0.837251\n",
       "11  0.837251  0.829591      600   0.832068  0.837251\n",
       "12  0.837251  0.829919      650   0.831970  0.837251\n",
       "9   0.836649  0.828876      500   0.831421  0.836649\n",
       "10  0.836046  0.828161      550   0.830773  0.836046\n",
       "16  0.836046  0.828494      850   0.830671  0.836046\n",
       "15  0.836046  0.828659      800   0.830629  0.836046\n",
       "8   0.836046  0.828161      450   0.830773  0.836046"
      ]
     },
     "execution_count": 94,
     "metadata": {},
     "output_type": "execute_result"
    }
   ],
   "source": [
    "acc_rf = reports.sort_values(by=['accuracy'], ascending=False).iloc[:10, :]\n",
    "acc_rf"
   ]
  },
  {
   "cell_type": "code",
   "execution_count": 95,
   "metadata": {
    "colab": {
     "base_uri": "https://localhost:8080/",
     "height": 286
    },
    "colab_type": "code",
    "id": "Qh3G0IsB7BEM",
    "outputId": "57237067-1ecc-4f9f-cacf-72a299195802"
   },
   "outputs": [
    {
     "data": {
      "text/plain": [
       "<matplotlib.axes._subplots.AxesSubplot at 0x1cdd01f7ef0>"
      ]
     },
     "execution_count": 95,
     "metadata": {},
     "output_type": "execute_result"
    },
    {
     "data": {
      "image/png": "[encoded data removed]",
      "text/plain": [
       "<Figure size 432x288 with 2 Axes>"
      ]
     },
     "metadata": {
      "needs_background": "light"
     },
     "output_type": "display_data"
    }
   ],
   "source": [
    "c_m = acc_rf['n_trees'].iloc[0]\n",
    "sns.heatmap(c_matrices[c_m], xticklabels=target_names, yticklabels=target_names, annot=True, cmap='Blues', fmt=\"d\")"
   ]
  },
  {
   "cell_type": "markdown",
   "metadata": {
    "colab_type": "text",
    "id": "gkauxeJy8Kla"
   },
   "source": [
    "## MLP"
   ]
  },
  {
   "cell_type": "markdown",
   "metadata": {
    "colab_type": "text",
    "id": "7l1p5y5n_U2G"
   },
   "source": [
    "### Hiperparâmetros"
   ]
  },
  {
   "cell_type": "code",
   "execution_count": 96,
   "metadata": {
    "colab": {},
    "colab_type": "code",
    "id": "DP4IbWmW_Xih"
   },
   "outputs": [],
   "source": [
    "hidden_layers = [(50,), (100,), (50, 50), (100, 100)]\n",
    "\n",
    "solvers = ['sgd', 'adam']\n",
    "\n",
    "activations = ['relu', 'logistic', 'tanh']\n",
    "\n",
    "alphas = [.0001, .005]\n",
    "\n",
    "learning_rates = ['constant', 'adaptive']"
   ]
  },
  {
   "cell_type": "markdown",
   "metadata": {
    "colab_type": "text",
    "id": "8ZgTtyNMEEC8"
   },
   "source": [
    "### Utilizando o Grid Search Cross Validation do Sci-kit learn para encontrar os melhores parâmetros para o MLP\n",
    "Devido ao alto número de hiperparâmetros a visualização ficaria muito prejudicada."
   ]
  },
  {
   "cell_type": "code",
   "execution_count": 97,
   "metadata": {
    "colab": {
     "base_uri": "https://localhost:8080/",
     "height": 0
    },
    "colab_type": "code",
    "id": "7URMzWZp9G4L",
    "outputId": "094c135a-5920-4dd4-b45c-11b9dd530838"
   },
   "outputs": [
    {
     "name": "stderr",
     "output_type": "stream",
     "text": [
      "c:\\users\\aange\\appdata\\local\\programs\\python\\python37\\lib\\site-packages\\sklearn\\model_selection\\_split.py:1978: FutureWarning: The default value of cv will change from 3 to 5 in version 0.22. Specify it explicitly to silence this warning.\n",
      "  warnings.warn(CV_WARNING, FutureWarning)\n",
      "c:\\users\\aange\\appdata\\local\\programs\\python\\python37\\lib\\site-packages\\sklearn\\neural_network\\multilayer_perceptron.py:566: ConvergenceWarning: Stochastic Optimizer: Maximum iterations (200) reached and the optimization hasn't converged yet.\n",
      "  % self.max_iter, ConvergenceWarning)\n"
     ]
    },
    {
     "data": {
      "text/plain": [
       "GridSearchCV(cv='warn', error_score='raise-deprecating',\n",
       "             estimator=MLPClassifier(activation='relu', alpha=0.0001,\n",
       "                                     batch_size='auto', beta_1=0.9,\n",
       "                                     beta_2=0.999, early_stopping=False,\n",
       "                                     epsilon=1e-08, hidden_layer_sizes=(100,),\n",
       "                                     learning_rate='constant',\n",
       "                                     learning_rate_init=0.001, max_iter=200,\n",
       "                                     momentum=0.9, n_iter_no_change=10,\n",
       "                                     nesterovs_momentum=True, power_t=0.5,\n",
       "                                     rando...\n",
       "                                     validation_fraction=0.1, verbose=False,\n",
       "                                     warm_start=False),\n",
       "             iid='warn', n_jobs=-1,\n",
       "             param_grid={'activation': ['relu', 'logistic', 'tanh'],\n",
       "                         'alpha': [0.0001, 0.005],\n",
       "                         'hidden_layer_sizes': [(50,), (100,), (50, 50),\n",
       "                                                (100, 100)],\n",
       "                         'learning_rate': ['constant', 'adaptive'],\n",
       "                         'solver': ['sgd', 'adam']},\n",
       "             pre_dispatch='2*n_jobs', refit=True, return_train_score=False,\n",
       "             scoring=None, verbose=0)"
      ]
     },
     "execution_count": 97,
     "metadata": {},
     "output_type": "execute_result"
    }
   ],
   "source": [
    "mlp = MLPClassifier(random_state=42)\n",
    "\n",
    "params = {\n",
    "    'hidden_layer_sizes': hidden_layers,\n",
    "    'activation': activations,\n",
    "    'solver': solvers,\n",
    "    'alpha': alphas,\n",
    "    'learning_rate': learning_rates,\n",
    "}\n",
    "\n",
    "from sklearn.model_selection import GridSearchCV\n",
    "\n",
    "mlp_grid_search = GridSearchCV(mlp, params, n_jobs=-1)\n",
    "\n",
    "mlp_grid_search.fit(X_train, y_train)"
   ]
  },
  {
   "cell_type": "markdown",
   "metadata": {
    "colab_type": "text",
    "id": "AA5etE3RFAby"
   },
   "source": [
    "#### Dessa forma é possível obter como melhores parâmetros a função de ativação rectified linear unit, alpha = 0.0001,  camada oculta de tamanho 100, etc."
   ]
  },
  {
   "cell_type": "code",
   "execution_count": 98,
   "metadata": {
    "colab": {},
    "colab_type": "code",
    "id": "vdU2fUYOEWqi"
   },
   "outputs": [
    {
     "data": {
      "text/plain": [
       "{'activation': 'relu',\n",
       " 'alpha': 0.0001,\n",
       " 'hidden_layer_sizes': (50,),\n",
       " 'learning_rate': 'constant',\n",
       " 'solver': 'adam'}"
      ]
     },
     "execution_count": 98,
     "metadata": {},
     "output_type": "execute_result"
    }
   ],
   "source": [
    "mlp_grid_search.best_params_"
   ]
  },
  {
   "cell_type": "markdown",
   "metadata": {
    "colab_type": "text",
    "id": "5sCGkRyCGFyO"
   },
   "source": [
    "### Teste:\n",
    "#### Aqui é possível observar que embora o recall para classe RUIM tenha sido muito bom, foi péssimo para classe BOM, o que torna um bom classificador para filmes ruins, com uma  acurácia de 72%. Ou seja, se ele classifica um filme como RUIM, há uma grande probabilidade de ele realmente ser ruim (nota abaixo de 7)"
   ]
  },
  {
   "cell_type": "code",
   "execution_count": 99,
   "metadata": {
    "colab": {},
    "colab_type": "code",
    "id": "fZtpcwD-GEA0"
   },
   "outputs": [
    {
     "name": "stdout",
     "output_type": "stream",
     "text": [
      "              precision    recall  f1-score   support\n",
      "\n",
      "        RUIM       0.75      0.97      0.85      1194\n",
      "         BOM       0.70      0.17      0.27       465\n",
      "\n",
      "    accuracy                           0.75      1659\n",
      "   macro avg       0.72      0.57      0.56      1659\n",
      "weighted avg       0.73      0.75      0.68      1659\n",
      "\n"
     ]
    },
    {
     "data": {
      "text/plain": [
       "<matplotlib.axes._subplots.AxesSubplot at 0x1cdc91ffa90>"
      ]
     },
     "execution_count": 99,
     "metadata": {},
     "output_type": "execute_result"
    },
    {
     "data": {
      "image/png": "[encoded data removed]",
      "text/plain": [
       "<Figure size 432x288 with 2 Axes>"
      ]
     },
     "metadata": {
      "needs_background": "light"
     },
     "output_type": "display_data"
    }
   ],
   "source": [
    "y_pred = mlp_grid_search.predict(X_test)\n",
    "\n",
    "clf_report = classification_report(y_test, y_pred, target_names=target_names)\n",
    "print(clf_report)\n",
    "sns.heatmap(confusion_matrix(y_test, y_pred), xticklabels=target_names, yticklabels=target_names, annot=True, cmap='Blues', fmt=\"d\")"
   ]
  },
  {
   "cell_type": "markdown",
   "metadata": {
    "colab_type": "text",
    "id": "psQAQ-_4MwE1"
   },
   "source": [
    "## Complement Naive Bayes\n",
    "[Definição](https://scikit-learn.org/stable/modules/generated/sklearn.naive_bayes.ComplementNB.html):\n",
    "The Complement Naive Bayes classifier described in Rennie et al. (2003).\n",
    "The Complement Naive Bayes classifier was designed to correct the “severe assumptions” made by the standard Multinomial Naive Bayes classifier. It is particularly suited for imbalanced data sets. The multinomial Naive Bayes classifier is suitable for classification with discrete features\n",
    "\n",
    "Se encaixa no problema pelo fato de a classe BOM representar menos de 30% do dataset e ter muitos valores categóricos"
   ]
  },
  {
   "cell_type": "markdown",
   "metadata": {
    "colab_type": "text",
    "id": "7d9lFDBhM_da"
   },
   "source": [
    "### Hiperparâmetros"
   ]
  },
  {
   "cell_type": "code",
   "execution_count": 100,
   "metadata": {
    "colab": {},
    "colab_type": "code",
    "id": "_yV4SHS-M7TQ"
   },
   "outputs": [
    {
     "data": {
      "text/plain": [
       "array([ 0. ,  0.1,  0.2,  0.3,  0.4,  0.5,  0.6,  0.7,  0.8,  0.9,  1. ,\n",
       "        1.1,  1.2,  1.3,  1.4,  1.5,  1.6,  1.7,  1.8,  1.9,  2. ,  2.1,\n",
       "        2.2,  2.3,  2.4,  2.5,  2.6,  2.7,  2.8,  2.9,  3. ,  3.1,  3.2,\n",
       "        3.3,  3.4,  3.5,  3.6,  3.7,  3.8,  3.9,  4. ,  4.1,  4.2,  4.3,\n",
       "        4.4,  4.5,  4.6,  4.7,  4.8,  4.9,  5. ,  5.1,  5.2,  5.3,  5.4,\n",
       "        5.5,  5.6,  5.7,  5.8,  5.9,  6. ,  6.1,  6.2,  6.3,  6.4,  6.5,\n",
       "        6.6,  6.7,  6.8,  6.9,  7. ,  7.1,  7.2,  7.3,  7.4,  7.5,  7.6,\n",
       "        7.7,  7.8,  7.9,  8. ,  8.1,  8.2,  8.3,  8.4,  8.5,  8.6,  8.7,\n",
       "        8.8,  8.9,  9. ,  9.1,  9.2,  9.3,  9.4,  9.5,  9.6,  9.7,  9.8,\n",
       "        9.9, 10. ])"
      ]
     },
     "execution_count": 100,
     "metadata": {},
     "output_type": "execute_result"
    }
   ],
   "source": [
    "alphas = np.array([x/10 for x in range(0, 101)])\n",
    "alphas"
   ]
  },
  {
   "cell_type": "code",
   "execution_count": 101,
   "metadata": {
    "colab": {},
    "colab_type": "code",
    "id": "9th2A1JrVQyN"
   },
   "outputs": [
    {
     "name": "stderr",
     "output_type": "stream",
     "text": [
      "c:\\users\\aange\\appdata\\local\\programs\\python\\python37\\lib\\site-packages\\sklearn\\naive_bayes.py:485: UserWarning: alpha too small will result in numeric errors, setting alpha = 1.0e-10\n",
      "  'setting alpha = %.1e' % _ALPHA_MIN)\n"
     ]
    }
   ],
   "source": [
    "reports = []\n",
    "\n",
    "c_matrices = dict()\n",
    "\n",
    "for alpha in alphas:\n",
    "  bayes = ComplementNB(alpha=alpha, fit_prior=False, norm=True)\n",
    "\n",
    "  bayes.fit(X_train, y_train)\n",
    "  y_pred = bayes.predict(X_test)\n",
    "    \n",
    "  c_matrices[str(alpha)] = confusion_matrix(y_test, y_pred)\n",
    "\n",
    "  clss_report = classification_report(y_test, y_pred, target_names=target_names, output_dict=True)\n",
    "#   Para informações por classes descomentar essas linhas\n",
    "#   for target in target_names:\n",
    "#     report[target + '_precision'] = clss_report[target]['precision']\n",
    "#     report[target + '_recall'] = clss_report[target]['recall']\n",
    "#     report[target + '_f1-score'] = clss_report[target]['f1-score']\n",
    "#     report[target + '_support'] = clss_report[target]['support']\n",
    "  report = clss_report['weighted avg']\n",
    "  report['accuracy'] = clss_report['accuracy']\n",
    "  report['alpha'] = alpha\n",
    "  reports.append(report)\n",
    "reports = pd.DataFrame(reports).drop(columns=['support'])"
   ]
  },
  {
   "cell_type": "code",
   "execution_count": 102,
   "metadata": {
    "colab": {},
    "colab_type": "code",
    "id": "53Yv-7_EWAZW"
   },
   "outputs": [
    {
     "data": {
      "image/png": "[encoded data removed]",
      "text/plain": [
       "<Figure size 432x288 with 1 Axes>"
      ]
     },
     "metadata": {
      "needs_background": "light"
     },
     "output_type": "display_data"
    }
   ],
   "source": [
    "plt.plot(reports['alpha'], reports['accuracy'])\n",
    "plt.plot(reports['alpha'], reports['f1-score'])\n",
    "plt.legend(['f1', 'accuracy'], loc='center right')\n",
    "plt.show()"
   ]
  },
  {
   "cell_type": "code",
   "execution_count": 103,
   "metadata": {
    "colab": {},
    "colab_type": "code",
    "id": "I3f4cEIqWEsj"
   },
   "outputs": [
    {
     "data": {
      "text/html": [
       "<div>\n",
       "<style scoped>\n",
       "    .dataframe tbody tr th:only-of-type {\n",
       "        vertical-align: middle;\n",
       "    }\n",
       "\n",
       "    .dataframe tbody tr th {\n",
       "        vertical-align: top;\n",
       "    }\n",
       "\n",
       "    .dataframe thead th {\n",
       "        text-align: right;\n",
       "    }\n",
       "</style>\n",
       "<table border=\"1\" class=\"dataframe\">\n",
       "  <thead>\n",
       "    <tr style=\"text-align: right;\">\n",
       "      <th></th>\n",
       "      <th>accuracy</th>\n",
       "      <th>alpha</th>\n",
       "      <th>f1-score</th>\n",
       "      <th>precision</th>\n",
       "      <th>recall</th>\n",
       "    </tr>\n",
       "  </thead>\n",
       "  <tbody>\n",
       "    <tr>\n",
       "      <th>14</th>\n",
       "      <td>0.696805</td>\n",
       "      <td>1.4</td>\n",
       "      <td>0.644235</td>\n",
       "      <td>0.636842</td>\n",
       "      <td>0.696805</td>\n",
       "    </tr>\n",
       "    <tr>\n",
       "      <th>17</th>\n",
       "      <td>0.696805</td>\n",
       "      <td>1.7</td>\n",
       "      <td>0.644235</td>\n",
       "      <td>0.636842</td>\n",
       "      <td>0.696805</td>\n",
       "    </tr>\n",
       "    <tr>\n",
       "      <th>16</th>\n",
       "      <td>0.696805</td>\n",
       "      <td>1.6</td>\n",
       "      <td>0.644235</td>\n",
       "      <td>0.636842</td>\n",
       "      <td>0.696805</td>\n",
       "    </tr>\n",
       "    <tr>\n",
       "      <th>15</th>\n",
       "      <td>0.696805</td>\n",
       "      <td>1.5</td>\n",
       "      <td>0.644235</td>\n",
       "      <td>0.636842</td>\n",
       "      <td>0.696805</td>\n",
       "    </tr>\n",
       "    <tr>\n",
       "      <th>100</th>\n",
       "      <td>0.690778</td>\n",
       "      <td>10.0</td>\n",
       "      <td>0.644062</td>\n",
       "      <td>0.633761</td>\n",
       "      <td>0.690778</td>\n",
       "    </tr>\n",
       "    <tr>\n",
       "      <th>99</th>\n",
       "      <td>0.690778</td>\n",
       "      <td>9.9</td>\n",
       "      <td>0.644062</td>\n",
       "      <td>0.633761</td>\n",
       "      <td>0.690778</td>\n",
       "    </tr>\n",
       "    <tr>\n",
       "      <th>98</th>\n",
       "      <td>0.690778</td>\n",
       "      <td>9.8</td>\n",
       "      <td>0.644062</td>\n",
       "      <td>0.633761</td>\n",
       "      <td>0.690778</td>\n",
       "    </tr>\n",
       "    <tr>\n",
       "      <th>97</th>\n",
       "      <td>0.690778</td>\n",
       "      <td>9.7</td>\n",
       "      <td>0.644062</td>\n",
       "      <td>0.633761</td>\n",
       "      <td>0.690778</td>\n",
       "    </tr>\n",
       "    <tr>\n",
       "      <th>96</th>\n",
       "      <td>0.690778</td>\n",
       "      <td>9.6</td>\n",
       "      <td>0.644062</td>\n",
       "      <td>0.633761</td>\n",
       "      <td>0.690778</td>\n",
       "    </tr>\n",
       "    <tr>\n",
       "      <th>18</th>\n",
       "      <td>0.696203</td>\n",
       "      <td>1.8</td>\n",
       "      <td>0.643822</td>\n",
       "      <td>0.636086</td>\n",
       "      <td>0.696203</td>\n",
       "    </tr>\n",
       "  </tbody>\n",
       "</table>\n",
       "</div>"
      ],
      "text/plain": [
       "     accuracy  alpha  f1-score  precision    recall\n",
       "14   0.696805    1.4  0.644235   0.636842  0.696805\n",
       "17   0.696805    1.7  0.644235   0.636842  0.696805\n",
       "16   0.696805    1.6  0.644235   0.636842  0.696805\n",
       "15   0.696805    1.5  0.644235   0.636842  0.696805\n",
       "100  0.690778   10.0  0.644062   0.633761  0.690778\n",
       "99   0.690778    9.9  0.644062   0.633761  0.690778\n",
       "98   0.690778    9.8  0.644062   0.633761  0.690778\n",
       "97   0.690778    9.7  0.644062   0.633761  0.690778\n",
       "96   0.690778    9.6  0.644062   0.633761  0.690778\n",
       "18   0.696203    1.8  0.643822   0.636086  0.696203"
      ]
     },
     "execution_count": 103,
     "metadata": {},
     "output_type": "execute_result"
    }
   ],
   "source": [
    "f1_score_nb = reports.sort_values(by=['f1-score'], ascending=False).iloc[:10, :]\n",
    "f1_score_nb"
   ]
  },
  {
   "cell_type": "code",
   "execution_count": 104,
   "metadata": {
    "colab": {},
    "colab_type": "code",
    "id": "BKh_4ckcWQnw"
   },
   "outputs": [
    {
     "data": {
      "text/plain": [
       "<matplotlib.axes._subplots.AxesSubplot at 0x1cdd06d7550>"
      ]
     },
     "execution_count": 104,
     "metadata": {},
     "output_type": "execute_result"
    },
    {
     "data": {
      "image/png": "[encoded data removed]",
      "text/plain": [
       "<Figure size 432x288 with 2 Axes>"
      ]
     },
     "metadata": {
      "needs_background": "light"
     },
     "output_type": "display_data"
    }
   ],
   "source": [
    "c_m = f1_score_nb['alpha'].iloc[0]\n",
    "sns.heatmap(c_matrices[str(c_m)], xticklabels=target_names, yticklabels=target_names, annot=True, cmap='Blues', fmt=\"d\")"
   ]
  },
  {
   "cell_type": "markdown",
   "metadata": {
    "colab_type": "text",
    "id": "OFQBRAnQe2Tn"
   },
   "source": [
    "## Conclusão"
   ]
  },
  {
   "cell_type": "markdown",
   "metadata": {
    "colab_type": "text",
    "id": "5-DFbc_ofYPn"
   },
   "source": [
    "- De todos os algoritmos avaliados o Random Forest foi o que obteve melhor resultado conseguindo uma acurácia de mais de 82% e F1-score de mais de 81%\n",
    "- O Complemente Naive Bayes apesar de prometer uma adequação ao problema não foi capaz de entregar bons resultados, talvez pelo fato de não estabelecer correlação entre as features\n",
    "- O KNN e MLP atingiram resultados medianos mas com um bom Recall e Precision para a classe RUIM, sendo bons classificadores de filmes que ficarão com nota abaixo de 7 no IMDb"
   ]
  }
 ],
 "metadata": {
  "colab": {
   "collapsed_sections": [
    "PWcm30TbBRvT",
    "zM3TisuxBuOh",
    "uPOfBi0bVfNG",
    "ney00MhsREy0",
    "PmmLb7yLIUrq",
    "W4MJeTIPi7wn",
    "sL4M5FHvVIMe",
    "gkauxeJy8Kla",
    "psQAQ-_4MwE1",
    "OFQBRAnQe2Tn"
   ],
   "name": "Projeto1",
   "provenance": [],
   "version": "0.3.2"
  },
  "kernelspec": {
   "display_name": "Python 3",
   "language": "python",
   "name": "python3"
  },
  "language_info": {
   "codemirror_mode": {
    "name": "ipython",
    "version": 3
   },
   "file_extension": ".py",
   "mimetype": "text/x-python",
   "name": "python",
   "nbconvert_exporter": "python",
   "pygments_lexer": "ipython3",
   "version": "3.7.3"
  }
 },
 "nbformat": 4,
 "nbformat_minor": 1
}
